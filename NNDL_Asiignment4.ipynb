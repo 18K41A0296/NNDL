{
  "nbformat": 4,
  "nbformat_minor": 0,
  "metadata": {
    "colab": {
      "name": "NNDL-Asiignment4.ipynb",
      "provenance": []
    },
    "kernelspec": {
      "name": "python3",
      "display_name": "Python 3"
    },
    "language_info": {
      "name": "python"
    }
  },
  "cells": [
    {
      "cell_type": "code",
      "metadata": {
        "id": "ez-cUWy1gFUO"
      },
      "source": [
        "import matplotlib.pyplot as plt\n",
        "import pandas as pd\n",
        "import numpy as np\n",
        "from scipy import stats\n",
        "import seaborn as sns\n",
        "from sklearn.preprocessing import minmax_scale\n",
        "from sklearn.model_selection import train_test_split\n",
        "import math"
      ],
      "execution_count": 8,
      "outputs": []
    },
    {
      "cell_type": "code",
      "metadata": {
        "colab": {
          "base_uri": "https://localhost:8080/",
          "height": 301
        },
        "id": "_TWSbufngcqw",
        "outputId": "2f25fb08-fecc-41ec-b77d-ef5090e6fc79"
      },
      "source": [
        "data = pd.read_excel(\"/content/drive/MyDrive/slr09.xls\")\n",
        "data.describe()"
      ],
      "execution_count": 9,
      "outputs": [
        {
          "output_type": "stream",
          "text": [
            "*** No CODEPAGE record, no encoding_override: will use 'ascii'\n"
          ],
          "name": "stdout"
        },
        {
          "output_type": "execute_result",
          "data": {
            "text/html": [
              "<div>\n",
              "<style scoped>\n",
              "    .dataframe tbody tr th:only-of-type {\n",
              "        vertical-align: middle;\n",
              "    }\n",
              "\n",
              "    .dataframe tbody tr th {\n",
              "        vertical-align: top;\n",
              "    }\n",
              "\n",
              "    .dataframe thead th {\n",
              "        text-align: right;\n",
              "    }\n",
              "</style>\n",
              "<table border=\"1\" class=\"dataframe\">\n",
              "  <thead>\n",
              "    <tr style=\"text-align: right;\">\n",
              "      <th></th>\n",
              "      <th>X</th>\n",
              "      <th>Y</th>\n",
              "    </tr>\n",
              "  </thead>\n",
              "  <tbody>\n",
              "    <tr>\n",
              "      <th>count</th>\n",
              "      <td>34.000000</td>\n",
              "      <td>34.000000</td>\n",
              "    </tr>\n",
              "    <tr>\n",
              "      <th>mean</th>\n",
              "      <td>7.661765</td>\n",
              "      <td>142.794118</td>\n",
              "    </tr>\n",
              "    <tr>\n",
              "      <th>std</th>\n",
              "      <td>0.501522</td>\n",
              "      <td>55.787356</td>\n",
              "    </tr>\n",
              "    <tr>\n",
              "      <th>min</th>\n",
              "      <td>6.700000</td>\n",
              "      <td>35.000000</td>\n",
              "    </tr>\n",
              "    <tr>\n",
              "      <th>25%</th>\n",
              "      <td>7.300000</td>\n",
              "      <td>107.000000</td>\n",
              "    </tr>\n",
              "    <tr>\n",
              "      <th>50%</th>\n",
              "      <td>7.600000</td>\n",
              "      <td>147.000000</td>\n",
              "    </tr>\n",
              "    <tr>\n",
              "      <th>75%</th>\n",
              "      <td>8.000000</td>\n",
              "      <td>186.500000</td>\n",
              "    </tr>\n",
              "    <tr>\n",
              "      <th>max</th>\n",
              "      <td>8.800000</td>\n",
              "      <td>262.000000</td>\n",
              "    </tr>\n",
              "  </tbody>\n",
              "</table>\n",
              "</div>"
            ],
            "text/plain": [
              "               X           Y\n",
              "count  34.000000   34.000000\n",
              "mean    7.661765  142.794118\n",
              "std     0.501522   55.787356\n",
              "min     6.700000   35.000000\n",
              "25%     7.300000  107.000000\n",
              "50%     7.600000  147.000000\n",
              "75%     8.000000  186.500000\n",
              "max     8.800000  262.000000"
            ]
          },
          "metadata": {
            "tags": []
          },
          "execution_count": 9
        }
      ]
    },
    {
      "cell_type": "code",
      "metadata": {
        "colab": {
          "base_uri": "https://localhost:8080/",
          "height": 335
        },
        "id": "vg7-iTPlgoAO",
        "outputId": "3d0e9790-6bd4-4561-fa51-53746c31e111"
      },
      "source": [
        "sns.boxplot(list(data.iloc[:,1]))"
      ],
      "execution_count": 10,
      "outputs": [
        {
          "output_type": "stream",
          "text": [
            "/usr/local/lib/python3.7/dist-packages/seaborn/_decorators.py:43: FutureWarning: Pass the following variable as a keyword arg: x. From version 0.12, the only valid positional argument will be `data`, and passing other arguments without an explicit keyword will result in an error or misinterpretation.\n",
            "  FutureWarning\n"
          ],
          "name": "stderr"
        },
        {
          "output_type": "execute_result",
          "data": {
            "text/plain": [
              "<matplotlib.axes._subplots.AxesSubplot at 0x7fed60800f10>"
            ]
          },
          "metadata": {
            "tags": []
          },
          "execution_count": 10
        },
        {
          "output_type": "display_data",
          "data": {
            "image/png": "[encoded data removed]",
            "text/plain": [
              "<Figure size 432x288 with 1 Axes>"
            ]
          },
          "metadata": {
            "tags": [],
            "needs_background": "light"
          }
        }
      ]
    },
    {
      "cell_type": "code",
      "metadata": {
        "colab": {
          "base_uri": "https://localhost:8080/"
        },
        "id": "RcsNOCyXgpKT",
        "outputId": "ec31672d-afd3-4d0c-bacf-e244a4c26c9f"
      },
      "source": [
        "z = np.abs(stats.zscore(data.iloc[:,1]))\n",
        "\n",
        "threshold = 3\n",
        "print(np.where(z > 3))"
      ],
      "execution_count": 11,
      "outputs": [
        {
          "output_type": "stream",
          "text": [
            "(array([], dtype=int64),)\n"
          ],
          "name": "stdout"
        }
      ]
    },
    {
      "cell_type": "code",
      "metadata": {
        "colab": {
          "base_uri": "https://localhost:8080/",
          "height": 282
        },
        "id": "IhRdZBWNgyCe",
        "outputId": "24ab4ea8-be0a-4a1f-f31e-345a52bc8f37"
      },
      "source": [
        "\n",
        "plt.scatter(data.iloc[:,0],data.iloc[:,1])"
      ],
      "execution_count": 12,
      "outputs": [
        {
          "output_type": "execute_result",
          "data": {
            "text/plain": [
              "<matplotlib.collections.PathCollection at 0x7fed60764750>"
            ]
          },
          "metadata": {
            "tags": []
          },
          "execution_count": 12
        },
        {
          "output_type": "display_data",
          "data": {
            "image/png": "[encoded data removed]",
            "text/plain": [
              "<Figure size 432x288 with 1 Axes>"
            ]
          },
          "metadata": {
            "tags": [],
            "needs_background": "light"
          }
        }
      ]
    },
    {
      "cell_type": "code",
      "metadata": {
        "colab": {
          "base_uri": "https://localhost:8080/"
        },
        "id": "XkQnDwfDg5UY",
        "outputId": "401aba4c-1757-4814-9976-da0fbde9fa9d"
      },
      "source": [
        "x = minmax_scale(list(data.iloc[:,0]))\n",
        "y = minmax_scale(list(data.iloc[:,1]))\n",
        "\n",
        "x_train,x_test,y_train,y_test = train_test_split(x,y,test_size=0.2)\n",
        "print(len(x_train))\n",
        "print(len(y_train))\n",
        "print(len(x_test))\n",
        "print(len(y_test))"
      ],
      "execution_count": 13,
      "outputs": [
        {
          "output_type": "stream",
          "text": [
            "27\n",
            "27\n",
            "7\n",
            "7\n"
          ],
          "name": "stdout"
        }
      ]
    },
    {
      "cell_type": "code",
      "metadata": {
        "colab": {
          "base_uri": "https://localhost:8080/"
        },
        "id": "VGO--ayMjhrL",
        "outputId": "b2e94bea-7d25-4189-92e8-e59b7b010fb7"
      },
      "source": [
        "m = 1\n",
        "c = -1\n",
        "\n",
        "learning_rate = 0.01\n",
        "epochs = 100\n",
        "number_of_samples = len(x_train)\n",
        "error_list = []\n",
        "\n",
        "def gradientm(y,x,m,c):\n",
        "    return -1*(y-m*x-c)*x\n",
        "\n",
        "def gradientc(y,x,m,c):\n",
        "    return -1*(y-m*x-c)\n",
        "\n",
        "def error(x,y,m,c):\n",
        "  number_of_samples = len(x)\n",
        "  sum = 0\n",
        "  for i in range(number_of_samples):\n",
        "    sum = sum + math.pow((y[i] - m*x[i] - c), 2)\n",
        "  error_value = 1*0.5*(1/number_of_samples)*sum\n",
        "  return error_value\n",
        "\n",
        "for i in range(epochs):\n",
        "    for j in range(number_of_samples):        \n",
        "        deltam = -1*learning_rate*gradientm(y[j],x[j],m,c)\n",
        "        deltac = -1*learning_rate*gradientc(y[j],x[j],m,c)\n",
        "        \n",
        "        m = m + deltam\n",
        "        c = c + deltac\n",
        "\n",
        "    err = error(x,y,m,c)\n",
        "    error_list.append(err)\n",
        "\n",
        "print(\"optimal value of m and c using SGD: \",m , c)"
      ],
      "execution_count": 14,
      "outputs": [
        {
          "output_type": "stream",
          "text": [
            "optimal value of m and c using SGD:  0.15519898999810028 0.40724556095157977\n"
          ],
          "name": "stdout"
        }
      ]
    },
    {
      "cell_type": "code",
      "metadata": {
        "colab": {
          "base_uri": "https://localhost:8080/",
          "height": 312
        },
        "id": "jDpt_fsMjuIz",
        "outputId": "4f86140b-0054-43af-d410-8e7084565408"
      },
      "source": [
        "x1 = range(epochs)\n",
        "y1 = error_list\n",
        "\n",
        "plt.plot(x1,y1)\n",
        "plt.xlabel(\"number of iterations\")\n",
        "plt.ylabel(\"error\")\n",
        "plt.title(\"error graph in case of SGD\")"
      ],
      "execution_count": 15,
      "outputs": [
        {
          "output_type": "execute_result",
          "data": {
            "text/plain": [
              "Text(0.5, 1.0, 'error graph in case of SGD')"
            ]
          },
          "metadata": {
            "tags": []
          },
          "execution_count": 15
        },
        {
          "output_type": "display_data",
          "data": {
            "image/png": "[encoded data removed]",
            "text/plain": [
              "<Figure size 432x288 with 1 Axes>"
            ]
          },
          "metadata": {
            "tags": [],
            "needs_background": "light"
          }
        }
      ]
    },
    {
      "cell_type": "code",
      "metadata": {
        "colab": {
          "base_uri": "https://localhost:8080/"
        },
        "id": "oBT0PQ4gjx3H",
        "outputId": "662ad5aa-9c54-4401-b22e-c57faeec600d"
      },
      "source": [
        "train_error = error(x_train,y_train,m,c)\n",
        "test_error = error(x_test,y_test,m,c)\n",
        "\n",
        "print(\"train error : \",train_error)\n",
        "print(\"test error : \",test_error)"
      ],
      "execution_count": 16,
      "outputs": [
        {
          "output_type": "stream",
          "text": [
            "train error :  0.034692063728328976\n",
            "test error :  0.02640021921955039\n"
          ],
          "name": "stdout"
        }
      ]
    },
    {
      "cell_type": "code",
      "metadata": {
        "colab": {
          "base_uri": "https://localhost:8080/",
          "height": 298
        },
        "id": "y0iEYzNuj4FR",
        "outputId": "fd4fc655-b84f-4cfb-a848-98380ca37516"
      },
      "source": [
        "x2 = x_test\n",
        "y2 = [m*i+c for i in x2]\n",
        "\n",
        "plt.plot(x2,y2)\n",
        "plt.scatter(x_test,y_test)\n",
        "plt.title(\"line which is generated after training and actual values\")"
      ],
      "execution_count": 17,
      "outputs": [
        {
          "output_type": "execute_result",
          "data": {
            "text/plain": [
              "Text(0.5, 1.0, 'line which is generated after training and actual values')"
            ]
          },
          "metadata": {
            "tags": []
          },
          "execution_count": 17
        },
        {
          "output_type": "display_data",
          "data": {
            "image/png": "[encoded data removed]",
            "text/plain": [
              "<Figure size 432x288 with 1 Axes>"
            ]
          },
          "metadata": {
            "tags": [],
            "needs_background": "light"
          }
        }
      ]
    },
    {
      "cell_type": "code",
      "metadata": {
        "colab": {
          "base_uri": "https://localhost:8080/"
        },
        "id": "kBbKYtORj-X-",
        "outputId": "a519b9d9-0a6f-4578-ecc4-4490bf5318be"
      },
      "source": [
        "x_max = 8.8\n",
        "y_max = 262\n",
        "\n",
        "x_min = 6.7\n",
        "y_min = 35\n",
        "\n",
        "actual_x_value = float(input(\"enter the PH value : \"))\n",
        "scaled_x_value = (actual_x_value - x_min)/(x_max - x_min)\n",
        "\n",
        "scaled_y_value = m*scaled_x_value + c\n",
        "actual_y_value = scaled_y_value * (y_max - y_min) + y_min\n",
        "\n",
        "print(\"predicted value : \",actual_y_value)"
      ],
      "execution_count": 18,
      "outputs": [
        {
          "output_type": "stream",
          "text": [
            "enter the PH value : 11\n",
            "predicted value :  199.58271097274465\n"
          ],
          "name": "stdout"
        }
      ]
    }
  ]
}