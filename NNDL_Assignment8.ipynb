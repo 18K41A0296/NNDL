{
  "nbformat": 4,
  "nbformat_minor": 0,
  "metadata": {
    "colab": {
      "name": "NNDL_Assignment8.ipynb",
      "provenance": [],
      "toc_visible": true
    },
    "kernelspec": {
      "name": "python3",
      "display_name": "Python 3"
    },
    "language_info": {
      "name": "python"
    }
  },
  "cells": [
    {
      "cell_type": "code",
      "metadata": {
        "id": "uiJNOdKU-oCJ"
      },
      "source": [
        "import math\n",
        "import matplotlib.pyplot as plt\n",
        "import pandas as pd\n",
        "import numpy as np\n",
        "import seaborn as sns\n",
        "from scipy import stats\n",
        "from sklearn.preprocessing import minmax_scale\n",
        "from sklearn.model_selection import train_test_split"
      ],
      "execution_count": 13,
      "outputs": []
    },
    {
      "cell_type": "code",
      "metadata": {
        "colab": {
          "base_uri": "https://localhost:8080/",
          "height": 301
        },
        "id": "m4rk4BP2-8qB",
        "outputId": "8d563473-fc07-4a8b-d8a5-530b8df87aee"
      },
      "source": [
        "data = pd.read_excel(\"/content/drive/MyDrive/slr08.xls\")\n",
        "data.describe()"
      ],
      "execution_count": 14,
      "outputs": [
        {
          "output_type": "stream",
          "text": [
            "*** No CODEPAGE record, no encoding_override: will use 'ascii'\n"
          ],
          "name": "stdout"
        },
        {
          "output_type": "execute_result",
          "data": {
            "text/html": [
              "<div>\n",
              "<style scoped>\n",
              "    .dataframe tbody tr th:only-of-type {\n",
              "        vertical-align: middle;\n",
              "    }\n",
              "\n",
              "    .dataframe tbody tr th {\n",
              "        vertical-align: top;\n",
              "    }\n",
              "\n",
              "    .dataframe thead th {\n",
              "        text-align: right;\n",
              "    }\n",
              "</style>\n",
              "<table border=\"1\" class=\"dataframe\">\n",
              "  <thead>\n",
              "    <tr style=\"text-align: right;\">\n",
              "      <th></th>\n",
              "      <th>X</th>\n",
              "      <th>Y</th>\n",
              "    </tr>\n",
              "  </thead>\n",
              "  <tbody>\n",
              "    <tr>\n",
              "      <th>count</th>\n",
              "      <td>30.000000</td>\n",
              "      <td>30.000000</td>\n",
              "    </tr>\n",
              "    <tr>\n",
              "      <th>mean</th>\n",
              "      <td>90.273333</td>\n",
              "      <td>514.963333</td>\n",
              "    </tr>\n",
              "    <tr>\n",
              "      <th>std</th>\n",
              "      <td>16.986078</td>\n",
              "      <td>39.535096</td>\n",
              "    </tr>\n",
              "    <tr>\n",
              "      <th>min</th>\n",
              "      <td>62.200000</td>\n",
              "      <td>406.700000</td>\n",
              "    </tr>\n",
              "    <tr>\n",
              "      <th>25%</th>\n",
              "      <td>75.300000</td>\n",
              "      <td>505.250000</td>\n",
              "    </tr>\n",
              "    <tr>\n",
              "      <th>50%</th>\n",
              "      <td>89.150000</td>\n",
              "      <td>510.100000</td>\n",
              "    </tr>\n",
              "    <tr>\n",
              "      <th>75%</th>\n",
              "      <td>104.375000</td>\n",
              "      <td>519.850000</td>\n",
              "    </tr>\n",
              "    <tr>\n",
              "      <th>max</th>\n",
              "      <td>120.000000</td>\n",
              "      <td>578.600000</td>\n",
              "    </tr>\n",
              "  </tbody>\n",
              "</table>\n",
              "</div>"
            ],
            "text/plain": [
              "                X           Y\n",
              "count   30.000000   30.000000\n",
              "mean    90.273333  514.963333\n",
              "std     16.986078   39.535096\n",
              "min     62.200000  406.700000\n",
              "25%     75.300000  505.250000\n",
              "50%     89.150000  510.100000\n",
              "75%    104.375000  519.850000\n",
              "max    120.000000  578.600000"
            ]
          },
          "metadata": {
            "tags": []
          },
          "execution_count": 14
        }
      ]
    },
    {
      "cell_type": "code",
      "metadata": {
        "colab": {
          "base_uri": "https://localhost:8080/",
          "height": 282
        },
        "id": "P74kYLtI_B-O",
        "outputId": "c11df9e5-c68f-4e6b-8233-42ee76ac88a0"
      },
      "source": [
        "y = data.iloc[:,1]\n",
        "x = data.iloc[:,0]\n",
        "\n",
        "plt.scatter(x,y)"
      ],
      "execution_count": 15,
      "outputs": [
        {
          "output_type": "execute_result",
          "data": {
            "text/plain": [
              "<matplotlib.collections.PathCollection at 0x7fec919a8510>"
            ]
          },
          "metadata": {
            "tags": []
          },
          "execution_count": 15
        },
        {
          "output_type": "display_data",
          "data": {
            "image/png": "[encoded data removed]",
            "text/plain": [
              "<Figure size 432x288 with 1 Axes>"
            ]
          },
          "metadata": {
            "tags": [],
            "needs_background": "light"
          }
        }
      ]
    },
    {
      "cell_type": "code",
      "metadata": {
        "colab": {
          "base_uri": "https://localhost:8080/"
        },
        "id": "9Y9bcqqH_Gs8",
        "outputId": "551b10cd-5e45-43a3-efc2-31d2832b49b5"
      },
      "source": [
        "threshold = 3\n",
        "z = np.abs(stats.zscore(x))\n",
        "outliers = np.where(z > threshold)\n",
        "print(outliers[0])"
      ],
      "execution_count": 16,
      "outputs": [
        {
          "output_type": "stream",
          "text": [
            "[]\n"
          ],
          "name": "stdout"
        }
      ]
    },
    {
      "cell_type": "code",
      "metadata": {
        "id": "CbePwnga_LHe"
      },
      "source": [
        "x = minmax_scale(x)\n",
        "y = minmax_scale(y)"
      ],
      "execution_count": 17,
      "outputs": []
    },
    {
      "cell_type": "code",
      "metadata": {
        "colab": {
          "base_uri": "https://localhost:8080/"
        },
        "id": "cIe88j1Y_P-O",
        "outputId": "26bf58a6-588c-415b-ac83-6995f69a25b4"
      },
      "source": [
        "x_train,x_test,y_train,y_test = train_test_split(x,y,test_size=0.2)\n",
        "print(len(x_train))\n",
        "print(len(y_train))\n",
        "print(len(x_test))\n",
        "print(len(y_test))"
      ],
      "execution_count": 18,
      "outputs": [
        {
          "output_type": "stream",
          "text": [
            "24\n",
            "24\n",
            "6\n",
            "6\n"
          ],
          "name": "stdout"
        }
      ]
    },
    {
      "cell_type": "code",
      "metadata": {
        "id": "SPUflmYP_T6z"
      },
      "source": [
        "def gradientm(x,y,m,c):\n",
        "  sum = 0\n",
        "  number_of_samples = len(x)\n",
        "  for i in range(number_of_samples):\n",
        "    gradm_of_i = (y[i]- m*x[i] - c)*x[i]\n",
        "    sum = sum + gradm_of_i\n",
        "  gradm = -1*(1/number_of_samples)*sum\n",
        "  return gradm\n",
        "\n",
        "def gradientc(x,y,m,c):\n",
        "  sum = 0\n",
        "  number_of_samples = len(x)\n",
        "  for i in range(number_of_samples):\n",
        "    gradc_of_i = (y[i]- m*x[i] - c)\n",
        "    sum = sum + gradc_of_i\n",
        "  gradc = -1*(1/number_of_samples)*sum\n",
        "  return gradc\n",
        "\n",
        "def error(x,y,m,c):\n",
        "  number_of_samples = len(x)\n",
        "  for i in range(number_of_samples):\n",
        "    error_value = 1*0.5*(1/number_of_samples)*math.pow((y[i] - m*x[i] - c), 2)\n",
        "  return error_value"
      ],
      "execution_count": 19,
      "outputs": []
    },
    {
      "cell_type": "code",
      "metadata": {
        "id": "oVuEmA6N_aHo"
      },
      "source": [
        "m = 1\n",
        "c = -1\n",
        "\n",
        "learning_rate = 0.1\n",
        "epochs = 300\n",
        "error_list = []\n",
        "\n",
        "for i in range(epochs):\n",
        "  error_list.append(error(x,y,m,c))\n",
        "  deltam = -1*learning_rate*gradientm(x,y,m,c)\n",
        "  deltac = -1*learning_rate*gradientc(x,y,m,c)\n",
        "  m = m + deltam\n",
        "  c = c + deltac"
      ],
      "execution_count": 20,
      "outputs": []
    },
    {
      "cell_type": "code",
      "metadata": {
        "colab": {
          "base_uri": "https://localhost:8080/",
          "height": 312
        },
        "id": "jZC9dh62_fPx",
        "outputId": "9b4a8437-3071-4e14-bc65-85d52021420a"
      },
      "source": [
        "x1 = range(epochs)\n",
        "y1 = error_list\n",
        "\n",
        "plt.plot(x1,y1)\n",
        "plt.xlabel(\"number of epochs\")\n",
        "plt.ylabel(\"error\")\n",
        "plt.title(\"error graph in case of Batch\")"
      ],
      "execution_count": 21,
      "outputs": [
        {
          "output_type": "execute_result",
          "data": {
            "text/plain": [
              "Text(0.5, 1.0, 'error graph in case of Batch')"
            ]
          },
          "metadata": {
            "tags": []
          },
          "execution_count": 21
        },
        {
          "output_type": "display_data",
          "data": {
            "image/png": "[encoded data removed]",
            "text/plain": [
              "<Figure size 432x288 with 1 Axes>"
            ]
          },
          "metadata": {
            "tags": [],
            "needs_background": "light"
          }
        }
      ]
    },
    {
      "cell_type": "code",
      "metadata": {
        "colab": {
          "base_uri": "https://localhost:8080/"
        },
        "id": "brdc3I_5_lui",
        "outputId": "05498a5d-c467-4a88-816e-3b3cfb8e7cc4"
      },
      "source": [
        "train_error = error(x_train,y_train,m,c)\n",
        "test_error = error(x_test,y_test,m,c)\n",
        "\n",
        "print(\"training error : \",train_error)\n",
        "print(\"testing error : \",test_error)"
      ],
      "execution_count": 22,
      "outputs": [
        {
          "output_type": "stream",
          "text": [
            "training error :  3.693210092401533e-05\n",
            "testing error :  0.00012203804918134548\n"
          ],
          "name": "stdout"
        }
      ]
    },
    {
      "cell_type": "code",
      "metadata": {
        "colab": {
          "base_uri": "https://localhost:8080/",
          "height": 298
        },
        "id": "ZtVZbOCg_rlJ",
        "outputId": "061cd574-075b-4843-f70a-ba635147310d"
      },
      "source": [
        "x2 = x_test\n",
        "y2 = [m*i+c for i in x2]\n",
        "\n",
        "x1 = x_test\n",
        "y1 = y_test\n",
        "\n",
        "plt.plot(x2,y2)\n",
        "\n",
        "plt.scatter(x1,y1)\n",
        "\n",
        "plt.title(\"line which is generated after training\")"
      ],
      "execution_count": 23,
      "outputs": [
        {
          "output_type": "execute_result",
          "data": {
            "text/plain": [
              "Text(0.5, 1.0, 'line which is generated after training')"
            ]
          },
          "metadata": {
            "tags": []
          },
          "execution_count": 23
        },
        {
          "output_type": "display_data",
          "data": {
            "image/png": "[encoded data removed]",
            "text/plain": [
              "<Figure size 432x288 with 1 Axes>"
            ]
          },
          "metadata": {
            "tags": [],
            "needs_background": "light"
          }
        }
      ]
    },
    {
      "cell_type": "code",
      "metadata": {
        "colab": {
          "base_uri": "https://localhost:8080/"
        },
        "id": "p8Czw2f8_vnS",
        "outputId": "cc2e62c5-26e2-4b72-b75f-28a090c0ce5d"
      },
      "source": [
        "pressure_max = 120.000000\n",
        "pressure_min = 62.200000\n",
        "\n",
        "weight_max = 578.600000\n",
        "weight_min = 406.700000\n",
        "\n",
        "actual_pressure = float(input(\"enter the pressure value : \"))\n",
        "scaled_pressure = (actual_pressure - pressure_min)/(pressure_max-pressure_min)\n",
        "\n",
        "scaled_weight = scaled_pressure*m+c\n",
        "predicted_weight = scaled_weight*(weight_max-weight_min)+weight_min\n",
        "\n",
        "print(\"the predicted weight : \",predicted_weight)"
      ],
      "execution_count": 24,
      "outputs": [
        {
          "output_type": "stream",
          "text": [
            "enter the pressure value : 72\n",
            "the predicted weight :  511.60845539415936\n"
          ],
          "name": "stdout"
        }
      ]
    }
  ]
}