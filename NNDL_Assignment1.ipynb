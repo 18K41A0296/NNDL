{
  "nbformat": 4,
  "nbformat_minor": 0,
  "metadata": {
    "colab": {
      "name": "NNDL-Assignment1.ipynb",
      "provenance": []
    },
    "kernelspec": {
      "name": "python3",
      "display_name": "Python 3"
    }
  },
  "cells": [
    {
      "cell_type": "code",
      "metadata": {
        "colab": {
          "base_uri": "https://localhost:8080/"
        },
        "id": "zwmxg9dpJZms",
        "outputId": "1f15f015-5e48-42ba-e29a-372d13c34e37"
      },
      "source": [
        "import sympy as sym\r\n",
        "x=sym.symbols('x')\r\n",
        "y=x**4+3*x**2+10\r\n",
        "X=[]\r\n",
        "Xc=[]\r\n",
        "v=float(input(\"enter the value x:\"))\r\n",
        "X.append(v)\r\n",
        "n=float(input(\"enter the the step length\"))\r\n",
        "epoches=int(input(\"enter the no.of iterations\"))\r\n",
        "e=epoches+1\r\n",
        "for i in range(1,e):\r\n",
        "  d=sym.diff(y)\r\n",
        "  m=(-1*n)*d.evalf(subs={x:X[i-1]})\r\n",
        "  Xc.append(m)\r\n",
        "  r=(X[i-1])+(Xc[i-1])\r\n",
        "  X.append(r)\r\n",
        "  if X[i]==0 or X[i]<0 or X[i]>0:\r\n",
        "    print(\"the local minimum accors at:\",X[i],\"function value at global minimum is :\",(-1*n)*d.evalf(subs={x:X[i]}))\r\n",
        "    break\r\n",
        "  else:\r\n",
        "    continue"
      ],
      "execution_count": 16,
      "outputs": [
        {
          "output_type": "stream",
          "text": [
            "enter the value x:2\n",
            "enter the the step length0.01\n",
            "enter the no.of iterations100\n",
            "the local minimum accors at: 1.56000000000000 function value at global minimum is : -0.245456640000000\n"
          ],
          "name": "stdout"
        }
      ]
    }
  ]
}