{
  "nbformat": 4,
  "nbformat_minor": 0,
  "metadata": {
    "colab": {
      "name": "NNDL-Assignment1.ipynb",
      "provenance": []
    },
    "kernelspec": {
      "name": "python3",
      "display_name": "Python 3"
    }
  },
  "cells": [
    {
      "cell_type": "code",
      "metadata": {
        "colab": {
          "base_uri": "https://localhost:8080/"
        },
        "id": "zwmxg9dpJZms",
        "outputId": "8d8ca414-db89-40d7-8d8b-61ba117d05c4"
      },
      "source": [
        "import sympy as sym\r\n",
        "x=sym.symbols('x')\r\n",
        "y=x**4+3*x**2+10\r\n",
        "X=[]\r\n",
        "Xc=[]\r\n",
        "v=float(input(\"enter the value x:\"))\r\n",
        "X.append(v)\r\n",
        "n=float(input(\"enter the the step length:\"))\r\n",
        "epoches=int(input(\"enter the no.of iterations:\"))\r\n",
        "e=epoches+1\r\n",
        "for i in range(1,e):\r\n",
        "  d=sym.diff(y)\r\n",
        "  m=(-1*n)*d.evalf(subs={x:X[i-1]})\r\n",
        "  Xc.append(m)\r\n",
        "  r=(X[i-1])+(Xc[i-1])\r\n",
        "  X.append(r)\r\n",
        "  if i>=epoches:\r\n",
        "    print(\"the local minimum of the function is at at:\",X[i],\"function value at global/local minimum is :\",y.evalf(subs={x:X[i]}))"
      ],
      "execution_count": 24,
      "outputs": [
        {
          "output_type": "stream",
          "text": [
            "enter the value x:2\n",
            "enter the the step length:0.01\n",
            "enter the no.of iterations:100\n",
            "the local minimum of the function is at at: 0.00200576428456204 function value at global/local minimum is : 10.0000120692873\n"
          ],
          "name": "stdout"
        }
      ]
    }
  ]
}