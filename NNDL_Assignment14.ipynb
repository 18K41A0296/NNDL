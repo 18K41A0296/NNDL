{
  "nbformat": 4,
  "nbformat_minor": 0,
  "metadata": {
    "colab": {
      "name": "NNDL_Assignment14.ipynb",
      "provenance": []
    },
    "kernelspec": {
      "name": "python3",
      "display_name": "Python 3"
    },
    "language_info": {
      "name": "python"
    }
  },
  "cells": [
    {
      "cell_type": "code",
      "metadata": {
        "id": "0_fh16qeTHf7"
      },
      "source": [
        "import pandas as pd\n",
        "import numpy as np\n",
        "import math\n",
        "import random\n",
        "import matplotlib.pyplot as plt\n",
        "from random import shuffle\n",
        "from sklearn.preprocessing import minmax_scale\n",
        "from sklearn.model_selection import train_test_split"
      ],
      "execution_count": 17,
      "outputs": []
    },
    {
      "cell_type": "code",
      "metadata": {
        "colab": {
          "base_uri": "https://localhost:8080/",
          "height": 195
        },
        "id": "aYb5nHFcT-fo",
        "outputId": "40618752-c1d2-4581-f345-4de780108ce3"
      },
      "source": [
        "load_data = pd.read_excel(\"/content/drive/MyDrive/Load Data in kW.xlsx\",header = None)\n",
        "load_data.head()"
      ],
      "execution_count": 18,
      "outputs": [
        {
          "output_type": "execute_result",
          "data": {
            "text/html": [
              "<div>\n",
              "<style scoped>\n",
              "    .dataframe tbody tr th:only-of-type {\n",
              "        vertical-align: middle;\n",
              "    }\n",
              "\n",
              "    .dataframe tbody tr th {\n",
              "        vertical-align: top;\n",
              "    }\n",
              "\n",
              "    .dataframe thead th {\n",
              "        text-align: right;\n",
              "    }\n",
              "</style>\n",
              "<table border=\"1\" class=\"dataframe\">\n",
              "  <thead>\n",
              "    <tr style=\"text-align: right;\">\n",
              "      <th></th>\n",
              "      <th>0</th>\n",
              "    </tr>\n",
              "  </thead>\n",
              "  <tbody>\n",
              "    <tr>\n",
              "      <th>0</th>\n",
              "      <td>5551.82208</td>\n",
              "    </tr>\n",
              "    <tr>\n",
              "      <th>1</th>\n",
              "      <td>4983.17184</td>\n",
              "    </tr>\n",
              "    <tr>\n",
              "      <th>2</th>\n",
              "      <td>4888.39680</td>\n",
              "    </tr>\n",
              "    <tr>\n",
              "      <th>3</th>\n",
              "      <td>5072.95872</td>\n",
              "    </tr>\n",
              "    <tr>\n",
              "      <th>4</th>\n",
              "      <td>5196.25980</td>\n",
              "    </tr>\n",
              "  </tbody>\n",
              "</table>\n",
              "</div>"
            ],
            "text/plain": [
              "            0\n",
              "0  5551.82208\n",
              "1  4983.17184\n",
              "2  4888.39680\n",
              "3  5072.95872\n",
              "4  5196.25980"
            ]
          },
          "metadata": {
            "tags": []
          },
          "execution_count": 18
        }
      ]
    },
    {
      "cell_type": "code",
      "metadata": {
        "colab": {
          "base_uri": "https://localhost:8080/",
          "height": 284
        },
        "id": "ARN2os4eUCVQ",
        "outputId": "6702cf28-eb9d-4205-94af-6663bbc0d3a9"
      },
      "source": [
        "load_data.describe()"
      ],
      "execution_count": 19,
      "outputs": [
        {
          "output_type": "execute_result",
          "data": {
            "text/html": [
              "<div>\n",
              "<style scoped>\n",
              "    .dataframe tbody tr th:only-of-type {\n",
              "        vertical-align: middle;\n",
              "    }\n",
              "\n",
              "    .dataframe tbody tr th {\n",
              "        vertical-align: top;\n",
              "    }\n",
              "\n",
              "    .dataframe thead th {\n",
              "        text-align: right;\n",
              "    }\n",
              "</style>\n",
              "<table border=\"1\" class=\"dataframe\">\n",
              "  <thead>\n",
              "    <tr style=\"text-align: right;\">\n",
              "      <th></th>\n",
              "      <th>0</th>\n",
              "    </tr>\n",
              "  </thead>\n",
              "  <tbody>\n",
              "    <tr>\n",
              "      <th>count</th>\n",
              "      <td>2184.000000</td>\n",
              "    </tr>\n",
              "    <tr>\n",
              "      <th>mean</th>\n",
              "      <td>6393.230623</td>\n",
              "    </tr>\n",
              "    <tr>\n",
              "      <th>std</th>\n",
              "      <td>17139.102597</td>\n",
              "    </tr>\n",
              "    <tr>\n",
              "      <th>min</th>\n",
              "      <td>3377.919600</td>\n",
              "    </tr>\n",
              "    <tr>\n",
              "      <th>25%</th>\n",
              "      <td>5258.767680</td>\n",
              "    </tr>\n",
              "    <tr>\n",
              "      <th>50%</th>\n",
              "      <td>5935.910400</td>\n",
              "    </tr>\n",
              "    <tr>\n",
              "      <th>75%</th>\n",
              "      <td>6738.692400</td>\n",
              "    </tr>\n",
              "    <tr>\n",
              "      <th>max</th>\n",
              "      <td>805444.430400</td>\n",
              "    </tr>\n",
              "  </tbody>\n",
              "</table>\n",
              "</div>"
            ],
            "text/plain": [
              "                   0\n",
              "count    2184.000000\n",
              "mean     6393.230623\n",
              "std     17139.102597\n",
              "min      3377.919600\n",
              "25%      5258.767680\n",
              "50%      5935.910400\n",
              "75%      6738.692400\n",
              "max    805444.430400"
            ]
          },
          "metadata": {
            "tags": []
          },
          "execution_count": 19
        }
      ]
    },
    {
      "cell_type": "code",
      "metadata": {
        "colab": {
          "base_uri": "https://localhost:8080/"
        },
        "id": "2L18cx8aUFaL",
        "outputId": "27e634ab-6ad4-4ecd-a9cd-165041109f0f"
      },
      "source": [
        "load_data.info()"
      ],
      "execution_count": 20,
      "outputs": [
        {
          "output_type": "stream",
          "text": [
            "<class 'pandas.core.frame.DataFrame'>\n",
            "RangeIndex: 2184 entries, 0 to 2183\n",
            "Data columns (total 1 columns):\n",
            " #   Column  Non-Null Count  Dtype  \n",
            "---  ------  --------------  -----  \n",
            " 0   0       2184 non-null   float64\n",
            "dtypes: float64(1)\n",
            "memory usage: 17.2 KB\n"
          ],
          "name": "stdout"
        }
      ]
    },
    {
      "cell_type": "code",
      "metadata": {
        "colab": {
          "base_uri": "https://localhost:8080/",
          "height": 399
        },
        "id": "tgTzAi47UK2T",
        "outputId": "6bdbb2f8-455b-4803-b591-f88ec703aa03"
      },
      "source": [
        "plt.boxplot(load_data.iloc[:,0])"
      ],
      "execution_count": 21,
      "outputs": [
        {
          "output_type": "execute_result",
          "data": {
            "text/plain": [
              "{'boxes': [<matplotlib.lines.Line2D at 0x7fb9e60d1a50>],\n",
              " 'caps': [<matplotlib.lines.Line2D at 0x7fb9e5ff9250>,\n",
              "  <matplotlib.lines.Line2D at 0x7fb9e5ffbf10>],\n",
              " 'fliers': [<matplotlib.lines.Line2D at 0x7fb9e5f4c7d0>],\n",
              " 'means': [],\n",
              " 'medians': [<matplotlib.lines.Line2D at 0x7fb9e5ffb1d0>],\n",
              " 'whiskers': [<matplotlib.lines.Line2D at 0x7fb9e5fdfbd0>,\n",
              "  <matplotlib.lines.Line2D at 0x7fb9e5ff5510>]}"
            ]
          },
          "metadata": {
            "tags": []
          },
          "execution_count": 21
        },
        {
          "output_type": "display_data",
          "data": {
            "image/png": "[encoded data removed]",
            "text/plain": [
              "<Figure size 432x288 with 1 Axes>"
            ]
          },
          "metadata": {
            "tags": [],
            "needs_background": "light"
          }
        }
      ]
    },
    {
      "cell_type": "code",
      "metadata": {
        "colab": {
          "base_uri": "https://localhost:8080/"
        },
        "id": "U8Fyum2jUL0n",
        "outputId": "8831b39d-976e-4c70-af06-71c2a1b8b73f"
      },
      "source": [
        "from scipy import stats\n",
        "\n",
        "z = np.abs(stats.zscore(load_data.iloc[:,0]))\n",
        "\n",
        "threshold = 3\n",
        "print(np.where(z > 3))"
      ],
      "execution_count": 22,
      "outputs": [
        {
          "output_type": "stream",
          "text": [
            "(array([929]),)\n"
          ],
          "name": "stdout"
        }
      ]
    },
    {
      "cell_type": "code",
      "metadata": {
        "id": "pLxrHvRBUShP"
      },
      "source": [
        "load_data.iloc[929,0] = load_data.iloc[928,0]"
      ],
      "execution_count": 23,
      "outputs": []
    },
    {
      "cell_type": "code",
      "metadata": {
        "colab": {
          "base_uri": "https://localhost:8080/",
          "height": 399
        },
        "id": "4S2LcfQRUTbj",
        "outputId": "8d783106-fb95-40a6-c0c7-610c0e6df698"
      },
      "source": [
        "plt.boxplot(load_data.iloc[:,0])"
      ],
      "execution_count": 24,
      "outputs": [
        {
          "output_type": "execute_result",
          "data": {
            "text/plain": [
              "{'boxes': [<matplotlib.lines.Line2D at 0x7fb9e5f38790>],\n",
              " 'caps': [<matplotlib.lines.Line2D at 0x7fb9e5f3d7d0>,\n",
              "  <matplotlib.lines.Line2D at 0x7fb9e5f3dd10>],\n",
              " 'fliers': [<matplotlib.lines.Line2D at 0x7fb9e5f44810>],\n",
              " 'means': [],\n",
              " 'medians': [<matplotlib.lines.Line2D at 0x7fb9e5f442d0>],\n",
              " 'whiskers': [<matplotlib.lines.Line2D at 0x7fb9e5f38d10>,\n",
              "  <matplotlib.lines.Line2D at 0x7fb9e5f3d290>]}"
            ]
          },
          "metadata": {
            "tags": []
          },
          "execution_count": 24
        },
        {
          "output_type": "display_data",
          "data": {
            "image/png": "[encoded data removed]",
            "text/plain": [
              "<Figure size 432x288 with 1 Axes>"
            ]
          },
          "metadata": {
            "tags": [],
            "needs_background": "light"
          }
        }
      ]
    },
    {
      "cell_type": "code",
      "metadata": {
        "colab": {
          "base_uri": "https://localhost:8080/"
        },
        "id": "iwkpC3xZUX8J",
        "outputId": "8ea991d1-4718-415e-925a-ae3229325da0"
      },
      "source": [
        "data = minmax_scale(load_data.iloc[:,0])\n",
        "print(data)"
      ],
      "execution_count": 25,
      "outputs": [
        {
          "output_type": "stream",
          "text": [
            "[0.39787738 0.29380046 0.27645431 ... 0.24629825 0.32438447 0.65165045]\n"
          ],
          "name": "stdout"
        }
      ]
    },
    {
      "cell_type": "code",
      "metadata": {
        "id": "eFj-BSEwUdDs"
      },
      "source": [
        "x = []\n",
        "y = []\n",
        "for i in range(1,len(data)-24):\n",
        "  temp = [data[i],data[i+23]]\n",
        "  x.append(temp)\n",
        "  y.append(data[i+24])"
      ],
      "execution_count": 26,
      "outputs": []
    },
    {
      "cell_type": "code",
      "metadata": {
        "colab": {
          "base_uri": "https://localhost:8080/",
          "height": 282
        },
        "id": "yYrNG4AiUgcb",
        "outputId": "c8ed4d82-3f1d-4930-9257-25a24e8b5ea1"
      },
      "source": [
        "x = np.array(x)\n",
        "y = np.array(y)\n",
        "\n",
        "plt.scatter(x[:,[1]],y)"
      ],
      "execution_count": 27,
      "outputs": [
        {
          "output_type": "execute_result",
          "data": {
            "text/plain": [
              "<matplotlib.collections.PathCollection at 0x7fb9e5e4de10>"
            ]
          },
          "metadata": {
            "tags": []
          },
          "execution_count": 27
        },
        {
          "output_type": "display_data",
          "data": {
            "image/png": "[encoded data removed]",
            "text/plain": [
              "<Figure size 432x288 with 1 Axes>"
            ]
          },
          "metadata": {
            "tags": [],
            "needs_background": "light"
          }
        }
      ]
    },
    {
      "cell_type": "code",
      "metadata": {
        "colab": {
          "base_uri": "https://localhost:8080/"
        },
        "id": "1BYnd2gbUkD9",
        "outputId": "5027b4f1-bb1e-4281-fd63-d0f2a440056d"
      },
      "source": [
        "print(x[[1][0]][0])\n",
        "print(x[[1][0]][1])\n",
        "print(y[[1]][0])\n",
        "\n",
        "print(x)\n",
        "print(y)"
      ],
      "execution_count": 28,
      "outputs": [
        {
          "output_type": "stream",
          "text": [
            "0.2764543094348234\n",
            "0.25579869333257255\n",
            "0.24450087016062294\n",
            "[[0.29380046 0.28430002]\n",
            " [0.27645431 0.25579869]\n",
            " [0.31023366 0.24450087]\n",
            " ...\n",
            " [0.68414596 0.21779692]\n",
            " [0.51467861 0.24629825]\n",
            " [0.41730621 0.32438447]]\n",
            "[0.25579869 0.24450087 0.23996462 ... 0.24629825 0.32438447 0.65165045]\n"
          ],
          "name": "stdout"
        }
      ]
    },
    {
      "cell_type": "code",
      "metadata": {
        "colab": {
          "base_uri": "https://localhost:8080/"
        },
        "id": "20IOIGcGUoY3",
        "outputId": "a5e62592-4cea-423e-dcf6-5f8c65cf2723"
      },
      "source": [
        "x_train,x_test,y_train,y_test = train_test_split(x,y,test_size=0.2)\n",
        "print(len(x_train))\n",
        "print(len(y_train))\n",
        "print(len(x_test))\n",
        "print(len(y_test))"
      ],
      "execution_count": 29,
      "outputs": [
        {
          "output_type": "stream",
          "text": [
            "1727\n",
            "1727\n",
            "432\n",
            "432\n"
          ],
          "name": "stdout"
        }
      ]
    },
    {
      "cell_type": "code",
      "metadata": {
        "id": "M-J7_9g5UsJA"
      },
      "source": [
        "def gradientm0(y,x0,x1,m0,m1,c):\n",
        "    return -1*(y-m0*x0-m1*x1-c)*x0\n",
        "\n",
        "def gradientm1(y,x0,x1,m0,m1,c):\n",
        "    return -1*(y-m0*x0-m1*x1-c)*x1\n",
        "\n",
        "def gradientc(y,x0,x1,m0,m1,c):\n",
        "    return -1*(y-m0*x0-m1*x1-c)\n",
        "\n",
        "def error(x,y,m0,m1,c):\n",
        "  number_of_samples = len(x)\n",
        "  sum = 0\n",
        "  for i in range(number_of_samples):\n",
        "    sum = sum + math.pow((y[[i]][0] - m0*x[[i][0]][0] - m1*x[[i][0]][1] - c), 2)\n",
        "  error_value = 1*0.5*(1/number_of_samples)*sum\n",
        "  return error_value"
      ],
      "execution_count": 30,
      "outputs": []
    },
    {
      "cell_type": "code",
      "metadata": {
        "id": "wfSXK14BUvIL"
      },
      "source": [
        "learning_rate = 0.01\n",
        "epochs = 50\n",
        "\n",
        "m0 = 1\n",
        "m1 = 1\n",
        "c = 1\n",
        "\n",
        "Gm0 = 0\n",
        "Gm1 = 0\n",
        "Gc = 0\n",
        "e = pow(10,-6)\n",
        "number_of_samples = len(x_train)\n",
        "error_list = []"
      ],
      "execution_count": 31,
      "outputs": []
    },
    {
      "cell_type": "code",
      "metadata": {
        "colab": {
          "base_uri": "https://localhost:8080/"
        },
        "id": "ZwuoNuG2UyoM",
        "outputId": "e2999048-69b7-4853-8da4-dbc501c03186"
      },
      "source": [
        "for i in range(epochs):\n",
        "    for j in range(number_of_samples):\n",
        "        gradient_m0 = gradientm0(y_train[[j]][0],x_train[[j][0]][0],x_train[[i][0]][1],m0,m1,c)\n",
        "        gradient_m1 = gradientm1(y_train[[j]][0],x_train[[j][0]][0],x_train[[i][0]][1],m0,m1,c)\n",
        "        gradient_c = gradientc(y_train[[j]][0],x_train[[j][0]][0],x_train[[i][0]][1],m0,m1,c)\n",
        "\n",
        "        Gm0 = Gm0 + gradient_m0**2\n",
        "        Gm1 = Gm1 + gradient_m1**2\n",
        "        Gc = Gc + gradient_c**2\n",
        "\n",
        "        learning_rate_m0 = learning_rate/sqrt(Gm0+e)\n",
        "        learning_rate_m1 = learning_rate/sqrt(Gm1+e)\n",
        "        learning_rate_c = learning_rate/sqrt(Gc+e)\n",
        "        \n",
        "        deltam0 = -1*learning_rate_m0*gradient_m0\n",
        "        deltam1 = -1*learning_rate_m1*gradient_m1\n",
        "        deltac = -1*learning_rate_c*gradient_c\n",
        "        \n",
        "        m0 = m0 + deltam0\n",
        "        m1 = m1 + deltam1\n",
        "        c = c + deltac\n",
        "    err = error(x,y,m0,m1,c)\n",
        "    print(err)\n",
        "    error_list.append(err)"
      ],
      "execution_count": 32,
      "outputs": [
        {
          "output_type": "stream",
          "text": [
            "0.04891481589794811\n",
            "0.012000338269067443\n",
            "0.008255188314186604\n",
            "0.007755081830593779\n",
            "0.008740005767966096\n",
            "0.011387220468130994\n",
            "0.011374202004835226\n",
            "0.008032595273214326\n",
            "0.008207193146781176\n",
            "0.0077611009735015215\n",
            "0.007685279052148865\n",
            "0.007910312621017403\n",
            "0.007665990533136649\n",
            "0.0076325417469935855\n",
            "0.007605870024201131\n",
            "0.008365580519031171\n",
            "0.0076976312016234965\n",
            "0.007771135816189231\n",
            "0.007773413240913739\n",
            "0.0076621900814645184\n",
            "0.007750491823087191\n",
            "0.00779186987430143\n",
            "0.008270881041169843\n",
            "0.007679668895325744\n",
            "0.00772389573290493\n",
            "0.008545969266307957\n",
            "0.007832942778109614\n",
            "0.00776237150013088\n",
            "0.00775001155329773\n",
            "0.007762652472429906\n",
            "0.008024555452609529\n",
            "0.007824673166469285\n",
            "0.008136773054428219\n",
            "0.007899388997727914\n",
            "0.008362508598378341\n",
            "0.008003523968295774\n",
            "0.007919571132401302\n",
            "0.007899878645909474\n",
            "0.008018240703284751\n",
            "0.007923305614046718\n",
            "0.00795065066669627\n",
            "0.007940006942477814\n",
            "0.007929119831454194\n",
            "0.007983437495526147\n",
            "0.00802268215875673\n",
            "0.007999515602401228\n",
            "0.007928697987565493\n",
            "0.007937402524489937\n",
            "0.008102103355666686\n",
            "0.008046316171663188\n"
          ],
          "name": "stdout"
        }
      ]
    },
    {
      "cell_type": "code",
      "metadata": {
        "colab": {
          "base_uri": "https://localhost:8080/",
          "height": 312
        },
        "id": "IvDjvKB8U2hz",
        "outputId": "f45e4f14-20df-42ac-d66b-a9498a10d0ba"
      },
      "source": [
        "x1 = range(epochs)\n",
        "y1 = error_list\n",
        "\n",
        "plt.plot(x1,y1)\n",
        "plt.xlabel(\"number of iterations\")\n",
        "plt.ylabel(\"error\")\n",
        "plt.title(\"error graph in case of SGD with AdaGrad\")"
      ],
      "execution_count": 33,
      "outputs": [
        {
          "output_type": "execute_result",
          "data": {
            "text/plain": [
              "Text(0.5, 1.0, 'error graph in case of SGD with AdaGrad')"
            ]
          },
          "metadata": {
            "tags": []
          },
          "execution_count": 33
        },
        {
          "output_type": "display_data",
          "data": {
            "image/png": "[encoded data removed]",
            "text/plain": [
              "<Figure size 432x288 with 1 Axes>"
            ]
          },
          "metadata": {
            "tags": [],
            "needs_background": "light"
          }
        }
      ]
    },
    {
      "cell_type": "code",
      "metadata": {
        "colab": {
          "base_uri": "https://localhost:8080/"
        },
        "id": "SS9fsX4PU7Ae",
        "outputId": "aacc5895-fad7-4e87-ee01-5636142127f8"
      },
      "source": [
        "print(m0,m1,c)"
      ],
      "execution_count": 34,
      "outputs": [
        {
          "output_type": "stream",
          "text": [
            "0.5944489473903328 0.08628512087818271 0.17342687036132023\n"
          ],
          "name": "stdout"
        }
      ]
    },
    {
      "cell_type": "code",
      "metadata": {
        "colab": {
          "base_uri": "https://localhost:8080/"
        },
        "id": "NTCKi_ZZU-EB",
        "outputId": "7b6fc6e0-fb22-48a5-d01f-ac25faf21f08"
      },
      "source": [
        "train_error = error(x_train,y_train,m0,m1,c)\n",
        "test_error = error(x_test,y_test,m0,m1,c)\n",
        "\n",
        "print(\"train error : \",train_error)\n",
        "print(\"test error : \",test_error)"
      ],
      "execution_count": 35,
      "outputs": [
        {
          "output_type": "stream",
          "text": [
            "train error :  0.008256641584461804\n",
            "test error :  0.007205501384850192\n"
          ],
          "name": "stdout"
        }
      ]
    },
    {
      "cell_type": "code",
      "metadata": {
        "colab": {
          "base_uri": "https://localhost:8080/"
        },
        "id": "ZsdNZLzbVJmO",
        "outputId": "f459cbad-4655-478c-fd1d-2989c8f6ee99"
      },
      "source": [
        "input_load0 = float(input(\"enter yesterday load at this time : \"))\n",
        "input_load1 = float(input(\"enter load at previous hour : \"))\n",
        "\n",
        "max_value = 8841.669480\n",
        "min_value = 3377.919600\n",
        "\n",
        "input_load0 = (input_load0 - min_value)/(max_value-min_value)\n",
        "input_load1 = (input_load1 - min_value)/(max_value-min_value)\n",
        "output_load = input_load0*m0 + input_load1*m0 + c\n",
        "\n",
        "output_load = output_load*(max_value-min_value)+min_value\n",
        "\n",
        "print(\"predicted load for this hour is : \",output_load)"
      ],
      "execution_count": 36,
      "outputs": [
        {
          "output_type": "stream",
          "text": [
            "enter yesterday load at this time : 4300\n",
            "enter load at previous hour : 3600\n",
            "predicted load for this hour is :  5005.6258253307205\n"
          ],
          "name": "stdout"
        }
      ]
    }
  ]
}