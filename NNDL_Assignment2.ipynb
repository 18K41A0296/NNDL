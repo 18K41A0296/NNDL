{
  "nbformat": 4,
  "nbformat_minor": 0,
  "metadata": {
    "colab": {
      "name": "NNDL-Assignment2.ipynb",
      "provenance": []
    },
    "kernelspec": {
      "name": "python3",
      "display_name": "Python 3"
    }
  },
  "cells": [
    {
      "cell_type": "code",
      "metadata": {
        "colab": {
          "base_uri": "https://localhost:8080/"
        },
        "id": "QD8UFjhAhOyP",
        "outputId": "719b3294-b148-448f-b259-af4ae9d5a1a8"
      },
      "source": [
        "import sympy as sym\n",
        "x,y=sym.symbols('x y')\n",
        "f=x**2+y**2+10\n",
        "X=[]\n",
        "Xc=[]\n",
        "Y=[]\n",
        "Yc=[]\n",
        "v=float(input(\"enter the value x:\"))\n",
        "X.append(v)\n",
        "p=float(input(\"enter the value y:\"))\n",
        "Y.append(p)\n",
        "n=float(input(\"enter the learning rate:\"))\n",
        "epoches=int(input(\"enter the no.of iterations:\"))\n",
        "e=epoches+1\n",
        "for i in range(1,e):\n",
        "  d=sym.diff(f,x)\n",
        "  m=(-1*n)*d.evalf(subs={x:X[i-1],y:Y[i-1]})\n",
        "  Xc.append(m)\n",
        "  r=(X[i-1])+(Xc[i-1])\n",
        "  X.append(r)\n",
        "  k=sym.diff(f,y)\n",
        "  g=(-1*n)*k.evalf(subs={x:X[i-1],y:Y[i-1]})\n",
        "  Yc.append(g)\n",
        "  h=(Y[i-1])+(Yc[i-1])\n",
        "  Y.append(h)\n",
        "  if i>=epoches:\n",
        "    print(\"the local minimum of the function is at at:\",X[i],\"and\",Y[i],\"function value at global/local minimum is :\",f.evalf(subs={x:X[i],y:Y[i]}))"
      ],
      "execution_count": null,
      "outputs": [
        {
          "output_type": "stream",
          "text": [
            "enter the value x:4\n",
            "enter the value y:6\n",
            "enter the learning rate:0.02\n",
            "enter the no.of iterations:1000\n",
            "the local minimum of the function is at at: 7.46952578668077e-18 and 1.12042886800211e-17 function value at global/local minimum is : 10.0000000000000\n"
          ],
          "name": "stdout"
        }
      ]
    }
  ]
}