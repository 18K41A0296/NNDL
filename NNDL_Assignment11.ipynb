{
  "nbformat": 4,
  "nbformat_minor": 0,
  "metadata": {
    "colab": {
      "name": "NNDL-Assignment11.ipynb",
      "provenance": []
    },
    "kernelspec": {
      "name": "python3",
      "display_name": "Python 3"
    },
    "language_info": {
      "name": "python"
    }
  },
  "cells": [
    {
      "cell_type": "code",
      "metadata": {
        "id": "j7-5K1EPyNu1"
      },
      "source": [
        "import math\n",
        "import random\n",
        "import matplotlib.pyplot as plt\n",
        "from random import shuffle"
      ],
      "execution_count": 1,
      "outputs": []
    },
    {
      "cell_type": "code",
      "metadata": {
        "id": "FyFubYR6yhFf"
      },
      "source": [
        "def error(d,m,c):\n",
        "  sum = 0\n",
        "  for i in range(len(d)):\n",
        "    sum = sum + math.pow(d[i][1]-m*d[i][0]-c,2)\n",
        "  return 0.5*sum/len(d)"
      ],
      "execution_count": 2,
      "outputs": []
    },
    {
      "cell_type": "code",
      "metadata": {
        "id": "ylul8pNkym_C"
      },
      "source": [
        "def gradm(d,m,c,v_m,v_c,momentum_coeff):\n",
        "  sum = 0\n",
        "  for i in range(len(d)):\n",
        "    sum = sum + (d[i][1]-(m+momentum_coeff*v_m)*d[i][0]-(c+momentum_coeff*v_c))*d[i][0]\n",
        "  return -1*sum/len(d)"
      ],
      "execution_count": 3,
      "outputs": []
    },
    {
      "cell_type": "code",
      "metadata": {
        "id": "lQMwXQVmyrf4"
      },
      "source": [
        "def gradc(d,m,c,v_m,v_c,momentum_coeff):\n",
        "  sum = 0\n",
        "  for i in range(len(d)):\n",
        "    sum = sum + (d[i][1]-(m+momentum_coeff*v_m)*d[i][0]-(c+momentum_coeff*v_c))\n",
        "  return -1*sum/len(d)"
      ],
      "execution_count": 4,
      "outputs": []
    },
    {
      "cell_type": "code",
      "metadata": {
        "colab": {
          "base_uri": "https://localhost:8080/"
        },
        "id": "YOsh2L1eyuqR",
        "outputId": "ec555e95-9e8c-4285-e110-b6c3e81d41c4"
      },
      "source": [
        "x = [0.2,0.4,0.6,0.8,1.0,1.2]\n",
        "y = [3.4,3.8,4.2,4.6,5.0,5.4]\n",
        "print(\"sample x values : \", x)\n",
        "print(\"sample y values : \", y)\n",
        "\n",
        "data = [(x[i],y[i]) for i in range(0,6)]\n",
        "\n",
        "m = 1\n",
        "c = -1\n",
        "print(\"initial m value : \",m)\n",
        "print(\"initial c value : \",c)\n",
        "\n",
        "learning_rate = 0.01\n",
        "print(\"learning rate : \",learning_rate)\n",
        "\n",
        "batch_size = 2\n",
        "print(\"batch size : \",batch_size)\n",
        "\n",
        "v_m = 0\n",
        "v_c = 0\n",
        "print(\"initial values of vm and vc : \",v_m,v_c)\n",
        "\n",
        "momentum_coeff = 0.9\n",
        "print(\"momentum_coeff : \",momentum_coeff)\n",
        "\n",
        "print(\"\\nBatch 1\")\n",
        "gradient_m = gradm(data[:2],m,c,v_m,v_c,momentum_coeff)\n",
        "print(\"gradient of m for batch 1 : \",gradient_m)\n",
        "gradient_c = gradc(data[:2],m,c,v_m,v_c,momentum_coeff)\n",
        "print(\"gradient of c for batch 1 : \",gradient_c)\n",
        "deltam = -1*learning_rate*gradient_m\n",
        "deltac = -1*learning_rate*gradient_c\n",
        "print(\"delta m : \",deltam)\n",
        "print(\"delta c : \",deltac)\n",
        "v_m = v_m*momentum_coeff + deltam\n",
        "v_c = v_c*momentum_coeff + deltac\n",
        "print(\"Velocity of m : \",v_m)\n",
        "print(\"Velocity of c : \",v_c)\n",
        "m = m + v_m\n",
        "c = c + v_c\n",
        "print(\"m : \",m)\n",
        "print(\"c : \",c)\n",
        "\n",
        "\n",
        "print(\"\\nBatch 2\")\n",
        "gradient_m = gradm(data[2:4],m,c,v_m,v_c,momentum_coeff)\n",
        "print(\"gradient of m for batch 2 : \",gradient_m)\n",
        "gradient_c = gradc(data[2:4],m,c,v_m,v_c,momentum_coeff)\n",
        "print(\"gradient of c for batch 2 : \",gradient_c)\n",
        "deltam = -1*learning_rate*gradient_m\n",
        "deltac = -1*learning_rate*gradient_c\n",
        "print(\"delta m : \",deltam)\n",
        "print(\"delta c : \",deltac)\n",
        "v_m = v_m*momentum_coeff + deltam\n",
        "v_c = v_c*momentum_coeff + deltac\n",
        "print(\"Velocity of m : \",v_m)\n",
        "print(\"Velocity of c : \",v_c)\n",
        "m = m + v_m\n",
        "c = c + v_c\n",
        "print(\"m : \",m)\n",
        "print(\"c : \",c)"
      ],
      "execution_count": 5,
      "outputs": [
        {
          "output_type": "stream",
          "text": [
            "sample x values :  [0.2, 0.4, 0.6, 0.8, 1.0, 1.2]\n",
            "sample y values :  [3.4, 3.8, 4.2, 4.6, 5.0, 5.4]\n",
            "initial m value :  1\n",
            "initial c value :  -1\n",
            "learning rate :  0.01\n",
            "batch size :  2\n",
            "initial values of vm and vc :  0 0\n",
            "momentum_coeff :  0.9\n",
            "\n",
            "Batch 1\n",
            "gradient of m for batch 1 :  -1.3\n",
            "gradient of c for batch 1 :  -4.3\n",
            "delta m :  0.013000000000000001\n",
            "delta c :  0.043\n",
            "Velocity of m :  0.013000000000000001\n",
            "Velocity of c :  0.043\n",
            "m :  1.013\n",
            "c :  -0.957\n",
            "\n",
            "Batch 2\n",
            "gradient of m for batch 2 :  -3.23046\n",
            "gradient of c for batch 2 :  -4.6010100000000005\n",
            "delta m :  0.0323046\n",
            "delta c :  0.046010100000000005\n",
            "Velocity of m :  0.044004600000000005\n",
            "Velocity of c :  0.08471010000000001\n",
            "m :  1.0570046\n",
            "c :  -0.8722899\n"
          ],
          "name": "stdout"
        }
      ]
    },
    {
      "cell_type": "code",
      "metadata": {
        "id": "anNX-eeYy15n"
      },
      "source": [
        "number_of_samples = 6\n",
        "learning_rate = 0.1\n",
        "epochs = 100\n",
        "batch_size = 2\n",
        "m = -1\n",
        "c = 1\n",
        "\n",
        "v_m = 0\n",
        "v_c = 0\n",
        "momentum_coeff = 0.9\n",
        "number_of_batches = number_of_samples//batch_size"
      ],
      "execution_count": 6,
      "outputs": []
    },
    {
      "cell_type": "code",
      "metadata": {
        "colab": {
          "base_uri": "https://localhost:8080/"
        },
        "id": "GC8_A0aZy9p1",
        "outputId": "00ba9caf-2072-4c32-dba7-a9416a52c5f6"
      },
      "source": [
        "x = [0.2,0.4,0.6,0.8,1.0,1.2]\n",
        "y = [3.4,3.8,4.2,4.6,5.0,5.4]\n",
        "\n",
        "data = list()\n",
        "\n",
        "for i in range(6):\n",
        "  data.append((x[i],y[i]))\n",
        "\n",
        "print(data)"
      ],
      "execution_count": 7,
      "outputs": [
        {
          "output_type": "stream",
          "text": [
            "[(0.2, 3.4), (0.4, 3.8), (0.6, 4.2), (0.8, 4.6), (1.0, 5.0), (1.2, 5.4)]\n"
          ],
          "name": "stdout"
        }
      ]
    },
    {
      "cell_type": "code",
      "metadata": {
        "id": "LB1fX1Qdy-kO"
      },
      "source": [
        "error_list = []\n",
        "for i in range(epochs):\n",
        "  for j in range(number_of_batches):\n",
        "    if j == number_of_batches:\n",
        "      d = data[j*batch_size:]\n",
        "    else:\n",
        "      d = data[j*batch_size:(j+1)*batch_size]\n",
        "    deltam = -1*learning_rate*gradm(d,m,c,v_m,v_c,momentum_coeff)\n",
        "    deltac = -1*learning_rate*gradc(d,m,c,v_m,v_c,momentum_coeff)\n",
        "\n",
        "    v_m = v_m*momentum_coeff + deltam\n",
        "    v_c = v_c*momentum_coeff + deltac\n",
        "\n",
        "    m = m + v_m\n",
        "    c = c + v_c\n",
        "    \n",
        "    error_list.append(error(d,m,c))\n",
        "  random.shuffle(data)"
      ],
      "execution_count": 8,
      "outputs": []
    },
    {
      "cell_type": "code",
      "metadata": {
        "colab": {
          "base_uri": "https://localhost:8080/",
          "height": 312
        },
        "id": "wseHR_AEzDaa",
        "outputId": "5b298ede-aec2-46eb-8826-ff3962ae87ba"
      },
      "source": [
        "x1 = range(epochs*(number_of_batches))\n",
        "y1 = error_list\n",
        "\n",
        "plt.plot(x1,y1)\n",
        "plt.xlabel(\"number of updations\")\n",
        "plt.ylabel(\"error\")\n",
        "plt.title(\"error graph in case of Mini Batch GD\")"
      ],
      "execution_count": 9,
      "outputs": [
        {
          "output_type": "execute_result",
          "data": {
            "text/plain": [
              "Text(0.5, 1.0, 'error graph in case of Mini Batch GD')"
            ]
          },
          "metadata": {
            "tags": []
          },
          "execution_count": 9
        },
        {
          "output_type": "display_data",
          "data": {
            "image/png": "[encoded data removed]",
            "text/plain": [
              "<Figure size 432x288 with 1 Axes>"
            ]
          },
          "metadata": {
            "tags": [],
            "needs_background": "light"
          }
        }
      ]
    },
    {
      "cell_type": "code",
      "metadata": {
        "colab": {
          "base_uri": "https://localhost:8080/",
          "height": 298
        },
        "id": "w1ramaJbzMmx",
        "outputId": "64e8b377-2476-44f9-e31c-a82c94aaaf82"
      },
      "source": [
        "x2 = range(0,3)\n",
        "y2 = [m*i+c for i in x2]\n",
        "\n",
        "plt.plot(x2,y2)\n",
        "plt.scatter(x,y)\n",
        "plt.title(\"line which is generated after training\")"
      ],
      "execution_count": 10,
      "outputs": [
        {
          "output_type": "execute_result",
          "data": {
            "text/plain": [
              "Text(0.5, 1.0, 'line which is generated after training')"
            ]
          },
          "metadata": {
            "tags": []
          },
          "execution_count": 10
        },
        {
          "output_type": "display_data",
          "data": {
            "image/png": "[encoded data removed]",
            "text/plain": [
              "<Figure size 432x288 with 1 Axes>"
            ]
          },
          "metadata": {
            "tags": [],
            "needs_background": "light"
          }
        }
      ]
    },
    {
      "cell_type": "code",
      "metadata": {
        "colab": {
          "base_uri": "https://localhost:8080/"
        },
        "id": "m_nEiwFDzVRZ",
        "outputId": "4bb17b5a-b81d-4918-d585-e8dd9e612416"
      },
      "source": [
        "print(\"optimal value of m, c :\",m,c)"
      ],
      "execution_count": 11,
      "outputs": [
        {
          "output_type": "stream",
          "text": [
            "optimal value of m, c : 2.000000073786437 2.999999940255312\n"
          ],
          "name": "stdout"
        }
      ]
    }
  ]
}