{
  "nbformat": 4,
  "nbformat_minor": 0,
  "metadata": {
    "colab": {
      "name": "NNDL-Assignment12.ipynb",
      "provenance": []
    },
    "kernelspec": {
      "name": "python3",
      "display_name": "Python 3"
    },
    "language_info": {
      "name": "python"
    }
  },
  "cells": [
    {
      "cell_type": "code",
      "metadata": {
        "id": "D3ZUCUYjgQXo"
      },
      "source": [
        "import pandas as pd\n",
        "import numpy as np\n",
        "import math\n",
        "import random\n",
        "import matplotlib.pyplot as plt\n",
        "from random import shuffle\n",
        "from sklearn.preprocessing import minmax_scale\n",
        "from sklearn.model_selection import train_test_split"
      ],
      "execution_count": 23,
      "outputs": []
    },
    {
      "cell_type": "code",
      "metadata": {
        "colab": {
          "base_uri": "https://localhost:8080/",
          "height": 195
        },
        "id": "eH93wx5xgmHY",
        "outputId": "e36dd9a4-4182-4718-dd0f-030853d6e11b"
      },
      "source": [
        "load_data = pd.read_excel(\"/content/drive/MyDrive/Load Data in kW.xlsx\")\n",
        "load_data.head()"
      ],
      "execution_count": 24,
      "outputs": [
        {
          "output_type": "execute_result",
          "data": {
            "text/html": [
              "<div>\n",
              "<style scoped>\n",
              "    .dataframe tbody tr th:only-of-type {\n",
              "        vertical-align: middle;\n",
              "    }\n",
              "\n",
              "    .dataframe tbody tr th {\n",
              "        vertical-align: top;\n",
              "    }\n",
              "\n",
              "    .dataframe thead th {\n",
              "        text-align: right;\n",
              "    }\n",
              "</style>\n",
              "<table border=\"1\" class=\"dataframe\">\n",
              "  <thead>\n",
              "    <tr style=\"text-align: right;\">\n",
              "      <th></th>\n",
              "      <th>5551.82208</th>\n",
              "    </tr>\n",
              "  </thead>\n",
              "  <tbody>\n",
              "    <tr>\n",
              "      <th>0</th>\n",
              "      <td>4983.17184</td>\n",
              "    </tr>\n",
              "    <tr>\n",
              "      <th>1</th>\n",
              "      <td>4888.39680</td>\n",
              "    </tr>\n",
              "    <tr>\n",
              "      <th>2</th>\n",
              "      <td>5072.95872</td>\n",
              "    </tr>\n",
              "    <tr>\n",
              "      <th>3</th>\n",
              "      <td>5196.25980</td>\n",
              "    </tr>\n",
              "    <tr>\n",
              "      <th>4</th>\n",
              "      <td>5641.29720</td>\n",
              "    </tr>\n",
              "  </tbody>\n",
              "</table>\n",
              "</div>"
            ],
            "text/plain": [
              "   5551.82208\n",
              "0  4983.17184\n",
              "1  4888.39680\n",
              "2  5072.95872\n",
              "3  5196.25980\n",
              "4  5641.29720"
            ]
          },
          "metadata": {
            "tags": []
          },
          "execution_count": 24
        }
      ]
    },
    {
      "cell_type": "code",
      "metadata": {
        "colab": {
          "base_uri": "https://localhost:8080/",
          "height": 284
        },
        "id": "lTUguYA0go-0",
        "outputId": "0d55f130-758f-410f-fa11-f96cf4018531"
      },
      "source": [
        "load_data.describe()"
      ],
      "execution_count": 25,
      "outputs": [
        {
          "output_type": "execute_result",
          "data": {
            "text/html": [
              "<div>\n",
              "<style scoped>\n",
              "    .dataframe tbody tr th:only-of-type {\n",
              "        vertical-align: middle;\n",
              "    }\n",
              "\n",
              "    .dataframe tbody tr th {\n",
              "        vertical-align: top;\n",
              "    }\n",
              "\n",
              "    .dataframe thead th {\n",
              "        text-align: right;\n",
              "    }\n",
              "</style>\n",
              "<table border=\"1\" class=\"dataframe\">\n",
              "  <thead>\n",
              "    <tr style=\"text-align: right;\">\n",
              "      <th></th>\n",
              "      <th>5551.82208</th>\n",
              "    </tr>\n",
              "  </thead>\n",
              "  <tbody>\n",
              "    <tr>\n",
              "      <th>count</th>\n",
              "      <td>2183.000000</td>\n",
              "    </tr>\n",
              "    <tr>\n",
              "      <th>mean</th>\n",
              "      <td>6393.616060</td>\n",
              "    </tr>\n",
              "    <tr>\n",
              "      <th>std</th>\n",
              "      <td>17143.020064</td>\n",
              "    </tr>\n",
              "    <tr>\n",
              "      <th>min</th>\n",
              "      <td>3377.919600</td>\n",
              "    </tr>\n",
              "    <tr>\n",
              "      <th>25%</th>\n",
              "      <td>5257.520640</td>\n",
              "    </tr>\n",
              "    <tr>\n",
              "      <th>50%</th>\n",
              "      <td>5935.910400</td>\n",
              "    </tr>\n",
              "    <tr>\n",
              "      <th>75%</th>\n",
              "      <td>6738.692400</td>\n",
              "    </tr>\n",
              "    <tr>\n",
              "      <th>max</th>\n",
              "      <td>805444.430400</td>\n",
              "    </tr>\n",
              "  </tbody>\n",
              "</table>\n",
              "</div>"
            ],
            "text/plain": [
              "          5551.82208\n",
              "count    2183.000000\n",
              "mean     6393.616060\n",
              "std     17143.020064\n",
              "min      3377.919600\n",
              "25%      5257.520640\n",
              "50%      5935.910400\n",
              "75%      6738.692400\n",
              "max    805444.430400"
            ]
          },
          "metadata": {
            "tags": []
          },
          "execution_count": 25
        }
      ]
    },
    {
      "cell_type": "code",
      "metadata": {
        "colab": {
          "base_uri": "https://localhost:8080/"
        },
        "id": "kLz00lpMgs7v",
        "outputId": "471fb143-ecb9-45b4-e2d8-63f6ae04f2ed"
      },
      "source": [
        "load_data.info()"
      ],
      "execution_count": 26,
      "outputs": [
        {
          "output_type": "stream",
          "text": [
            "<class 'pandas.core.frame.DataFrame'>\n",
            "RangeIndex: 2183 entries, 0 to 2182\n",
            "Data columns (total 1 columns):\n",
            " #   Column      Non-Null Count  Dtype  \n",
            "---  ------      --------------  -----  \n",
            " 0   5551.82208  2183 non-null   float64\n",
            "dtypes: float64(1)\n",
            "memory usage: 17.2 KB\n"
          ],
          "name": "stdout"
        }
      ]
    },
    {
      "cell_type": "code",
      "metadata": {
        "colab": {
          "base_uri": "https://localhost:8080/",
          "height": 399
        },
        "id": "8aIHn_cpgwpf",
        "outputId": "b54d3069-1226-4a78-db47-05f89ae70e69"
      },
      "source": [
        "plt.boxplot(load_data.iloc[:,0])"
      ],
      "execution_count": 27,
      "outputs": [
        {
          "output_type": "execute_result",
          "data": {
            "text/plain": [
              "{'boxes': [<matplotlib.lines.Line2D at 0x7fbe598eefd0>],\n",
              " 'caps': [<matplotlib.lines.Line2D at 0x7fbe59a6d090>,\n",
              "  <matplotlib.lines.Line2D at 0x7fbe59a6d5d0>],\n",
              " 'fliers': [<matplotlib.lines.Line2D at 0x7fbe59a4f0d0>],\n",
              " 'means': [],\n",
              " 'medians': [<matplotlib.lines.Line2D at 0x7fbe59a6db50>],\n",
              " 'whiskers': [<matplotlib.lines.Line2D at 0x7fbe59a3d5d0>,\n",
              "  <matplotlib.lines.Line2D at 0x7fbe59a3db10>]}"
            ]
          },
          "metadata": {
            "tags": []
          },
          "execution_count": 27
        },
        {
          "output_type": "display_data",
          "data": {
            "image/png": "[encoded data removed]",
            "text/plain": [
              "<Figure size 432x288 with 1 Axes>"
            ]
          },
          "metadata": {
            "tags": [],
            "needs_background": "light"
          }
        }
      ]
    },
    {
      "cell_type": "code",
      "metadata": {
        "colab": {
          "base_uri": "https://localhost:8080/"
        },
        "id": "pM9g_vvTg5V5",
        "outputId": "a9b62d37-4ce7-4959-b2ba-b01f87579aa1"
      },
      "source": [
        "from scipy import stats\n",
        "\n",
        "z = np.abs(stats.zscore(load_data.iloc[:,0]))\n",
        "\n",
        "threshold = 3\n",
        "print(np.where(z > 3))"
      ],
      "execution_count": 28,
      "outputs": [
        {
          "output_type": "stream",
          "text": [
            "(array([928]),)\n"
          ],
          "name": "stdout"
        }
      ]
    },
    {
      "cell_type": "code",
      "metadata": {
        "id": "QPH8XE01g8lB"
      },
      "source": [
        "load_data.iloc[928,0] = load_data.iloc[927,0]"
      ],
      "execution_count": 29,
      "outputs": []
    },
    {
      "cell_type": "code",
      "metadata": {
        "colab": {
          "base_uri": "https://localhost:8080/",
          "height": 399
        },
        "id": "KxkyhO3uhAAX",
        "outputId": "8d3e1c80-a45e-411f-caa0-5f14f6654b81"
      },
      "source": [
        "plt.boxplot(load_data.iloc[:,0])"
      ],
      "execution_count": 30,
      "outputs": [
        {
          "output_type": "execute_result",
          "data": {
            "text/plain": [
              "{'boxes': [<matplotlib.lines.Line2D at 0x7fbe5983c290>],\n",
              " 'caps': [<matplotlib.lines.Line2D at 0x7fbe598412d0>,\n",
              "  <matplotlib.lines.Line2D at 0x7fbe59841810>],\n",
              " 'fliers': [<matplotlib.lines.Line2D at 0x7fbe59848310>],\n",
              " 'means': [],\n",
              " 'medians': [<matplotlib.lines.Line2D at 0x7fbe59841d90>],\n",
              " 'whiskers': [<matplotlib.lines.Line2D at 0x7fbe5983c810>,\n",
              "  <matplotlib.lines.Line2D at 0x7fbe5983cd50>]}"
            ]
          },
          "metadata": {
            "tags": []
          },
          "execution_count": 30
        },
        {
          "output_type": "display_data",
          "data": {
            "image/png": "[encoded data removed]",
            "text/plain": [
              "<Figure size 432x288 with 1 Axes>"
            ]
          },
          "metadata": {
            "tags": [],
            "needs_background": "light"
          }
        }
      ]
    },
    {
      "cell_type": "code",
      "metadata": {
        "id": "ohjPD21NhCi2"
      },
      "source": [
        "x = []\n",
        "y = []\n",
        "for i in range(len(load_data.iloc[:,0])-24):\n",
        "  x.append(load_data.iloc[i,0])\n",
        "  y.append(load_data.iloc[i+24,0])"
      ],
      "execution_count": 31,
      "outputs": []
    },
    {
      "cell_type": "code",
      "metadata": {
        "colab": {
          "base_uri": "https://localhost:8080/",
          "height": 282
        },
        "id": "4P-terMshG9j",
        "outputId": "7e3ef03f-71ef-4ce0-f4bd-f9e911d708dc"
      },
      "source": [
        "plt.scatter(x,y)"
      ],
      "execution_count": 32,
      "outputs": [
        {
          "output_type": "execute_result",
          "data": {
            "text/plain": [
              "<matplotlib.collections.PathCollection at 0x7fbe59848490>"
            ]
          },
          "metadata": {
            "tags": []
          },
          "execution_count": 32
        },
        {
          "output_type": "display_data",
          "data": {
            "image/png": "[encoded data removed]",
            "text/plain": [
              "<Figure size 432x288 with 1 Axes>"
            ]
          },
          "metadata": {
            "tags": [],
            "needs_background": "light"
          }
        }
      ]
    },
    {
      "cell_type": "code",
      "metadata": {
        "id": "5KvJncbehJ30"
      },
      "source": [
        "def error(d,m,c):\n",
        "  sum = 0\n",
        "  for i in range(len(d)):\n",
        "    sum = sum + math.pow(d[i][1]-m*d[i][0]-c,2)\n",
        "  return 0.5*sum/len(d)\n",
        "\n",
        "def gradm(d,m,c,v_m,v_c,momentum_coeff):\n",
        "  sum = 0\n",
        "  for i in range(len(d)):\n",
        "    sum = sum + (d[i][1]-(m+momentum_coeff*v_m)*d[i][0]-(c+momentum_coeff*v_c))*d[i][0]\n",
        "  return -1*sum/len(d)\n",
        "\n",
        "def gradc(d,m,c,v_m,v_c,momentum_coeff):\n",
        "  sum = 0\n",
        "  for i in range(len(d)):\n",
        "    sum = sum + (d[i][1]-(m+momentum_coeff*v_m)*d[i][0]-(c+momentum_coeff*v_c))\n",
        "  return -1*sum/len(d)"
      ],
      "execution_count": 33,
      "outputs": []
    },
    {
      "cell_type": "code",
      "metadata": {
        "id": "0ebn-FVHhNJD"
      },
      "source": [
        "learning_rate = 0.01\n",
        "epochs = 20\n",
        "\n",
        "m = 1\n",
        "c = 1\n",
        "\n",
        "v_m = 0\n",
        "v_c = 0\n",
        "momentum_coeff = 0.9\n",
        "\n",
        "batch_size = 500"
      ],
      "execution_count": 34,
      "outputs": []
    },
    {
      "cell_type": "code",
      "metadata": {
        "id": "uRngYTVohQyD"
      },
      "source": [
        "x = minmax_scale(x)\n",
        "y = minmax_scale(y)"
      ],
      "execution_count": 35,
      "outputs": []
    },
    {
      "cell_type": "code",
      "metadata": {
        "colab": {
          "base_uri": "https://localhost:8080/"
        },
        "id": "4CjZQiyXhUJs",
        "outputId": "e36218c7-b070-4817-9d8d-f576bdf9af1c"
      },
      "source": [
        "data = []\n",
        "\n",
        "for i in range(len(x)):\n",
        "  data.append((x[i],y[i]))\n",
        "\n",
        "print(len(data))\n",
        "\n",
        "data_train,data_test = train_test_split(data,test_size=0.1)\n",
        "\n",
        "len(data_train)"
      ],
      "execution_count": 36,
      "outputs": [
        {
          "output_type": "stream",
          "text": [
            "2159\n"
          ],
          "name": "stdout"
        },
        {
          "output_type": "execute_result",
          "data": {
            "text/plain": [
              "1943"
            ]
          },
          "metadata": {
            "tags": []
          },
          "execution_count": 36
        }
      ]
    },
    {
      "cell_type": "code",
      "metadata": {
        "colab": {
          "base_uri": "https://localhost:8080/"
        },
        "id": "wmC-igLShY39",
        "outputId": "d8f9a69e-ca74-4608-922c-653b25877f84"
      },
      "source": [
        "error_list = []\n",
        "number_of_batches = (len(data_train)//batch_size)\n",
        "for i in range(epochs):\n",
        "  for j in range(number_of_batches+1):\n",
        "    if j == number_of_batches:\n",
        "      d = data_train[j*batch_size:]\n",
        "    else:\n",
        "      d = data_train[j*batch_size:(j+1)*batch_size]\n",
        "\n",
        "    deltam = -1*learning_rate*gradm(d,m,c,v_m,v_c,momentum_coeff)\n",
        "    deltac = -1*learning_rate*gradc(d,m,c,v_m,v_c,momentum_coeff)\n",
        "\n",
        "    v_m = v_m*momentum_coeff + deltam\n",
        "    v_c = v_c*momentum_coeff + deltac\n",
        "\n",
        "    m = m + v_m\n",
        "    c = c + v_c\n",
        "\n",
        "    print(\"epoch {}, batch {}, error {}\".format(i,j,error(d,m,c)))\n",
        "    error_list.append(error(d,m,c))\n",
        "  random.shuffle(data_train)"
      ],
      "execution_count": 37,
      "outputs": [
        {
          "output_type": "stream",
          "text": [
            "epoch 0, batch 0, error 0.5008056228356933\n",
            "epoch 0, batch 1, error 0.47678849872333606\n",
            "epoch 0, batch 2, error 0.44271155256922784\n",
            "epoch 0, batch 3, error 0.4079016753313568\n",
            "epoch 1, batch 0, error 0.3677892365917361\n",
            "epoch 1, batch 1, error 0.32757949458309343\n",
            "epoch 1, batch 2, error 0.2802207928353382\n",
            "epoch 1, batch 3, error 0.23364358404249003\n",
            "epoch 2, batch 0, error 0.19978827842163704\n",
            "epoch 2, batch 1, error 0.16359648775597915\n",
            "epoch 2, batch 2, error 0.12987641174248443\n",
            "epoch 2, batch 3, error 0.10024252535741346\n",
            "epoch 3, batch 0, error 0.07808410534195728\n",
            "epoch 3, batch 1, error 0.06220206147757663\n",
            "epoch 3, batch 2, error 0.04158161230902219\n",
            "epoch 3, batch 3, error 0.027507536472032624\n",
            "epoch 4, batch 0, error 0.020912562281729618\n",
            "epoch 4, batch 1, error 0.014941615759705427\n",
            "epoch 4, batch 2, error 0.011778136604340595\n",
            "epoch 4, batch 3, error 0.008808705878107377\n",
            "epoch 5, batch 0, error 0.009686415196715079\n",
            "epoch 5, batch 1, error 0.008713523225780522\n",
            "epoch 5, batch 2, error 0.010616961966117614\n",
            "epoch 5, batch 3, error 0.01292582436472319\n",
            "epoch 6, batch 0, error 0.015345169792208263\n",
            "epoch 6, batch 1, error 0.015165960547700941\n",
            "epoch 6, batch 2, error 0.01775703018793119\n",
            "epoch 6, batch 3, error 0.017590351321763\n",
            "epoch 7, batch 0, error 0.02135153517221638\n",
            "epoch 7, batch 1, error 0.020943779545335717\n",
            "epoch 7, batch 2, error 0.019890589846168222\n",
            "epoch 7, batch 3, error 0.01884264703494278\n",
            "epoch 8, batch 0, error 0.019957527209590386\n",
            "epoch 8, batch 1, error 0.020485909266276654\n",
            "epoch 8, batch 2, error 0.019260287054531807\n",
            "epoch 8, batch 3, error 0.017356513558955518\n",
            "epoch 9, batch 0, error 0.016429406636573614\n",
            "epoch 9, batch 1, error 0.016718789249448827\n",
            "epoch 9, batch 2, error 0.01477952942834773\n",
            "epoch 9, batch 3, error 0.014752192846770283\n",
            "epoch 10, batch 0, error 0.013177370830228428\n",
            "epoch 10, batch 1, error 0.011823049428676197\n",
            "epoch 10, batch 2, error 0.012447296570837684\n",
            "epoch 10, batch 3, error 0.011092313911842379\n",
            "epoch 11, batch 0, error 0.010085477203242647\n",
            "epoch 11, batch 1, error 0.01007699890569299\n",
            "epoch 11, batch 2, error 0.010463559235798442\n",
            "epoch 11, batch 3, error 0.009025249226392577\n",
            "epoch 12, batch 0, error 0.009830070563223563\n",
            "epoch 12, batch 1, error 0.0074958368030850955\n",
            "epoch 12, batch 2, error 0.009262716396275154\n",
            "epoch 12, batch 3, error 0.009691756360643755\n",
            "epoch 13, batch 0, error 0.00826008616125792\n",
            "epoch 13, batch 1, error 0.009745265990836636\n",
            "epoch 13, batch 2, error 0.009004664333670956\n",
            "epoch 13, batch 3, error 0.008829002479652657\n",
            "epoch 14, batch 0, error 0.010142956731294306\n",
            "epoch 14, batch 1, error 0.007933522318008061\n",
            "epoch 14, batch 2, error 0.009865739605456097\n",
            "epoch 14, batch 3, error 0.008264831886397787\n",
            "epoch 15, batch 0, error 0.009950705024620967\n",
            "epoch 15, batch 1, error 0.010087404867720456\n",
            "epoch 15, batch 2, error 0.00885738590063724\n",
            "epoch 15, batch 3, error 0.007580184752122483\n",
            "epoch 16, batch 0, error 0.009391852679352532\n",
            "epoch 16, batch 1, error 0.010540671831186194\n",
            "epoch 16, batch 2, error 0.008096998128592187\n",
            "epoch 16, batch 3, error 0.008431218993600872\n",
            "epoch 17, batch 0, error 0.008900470038714367\n",
            "epoch 17, batch 1, error 0.009351212766962467\n",
            "epoch 17, batch 2, error 0.00888749768126927\n",
            "epoch 17, batch 3, error 0.009046997793590352\n",
            "epoch 18, batch 0, error 0.009143941361959005\n",
            "epoch 18, batch 1, error 0.008563467557946904\n",
            "epoch 18, batch 2, error 0.008523304870581984\n",
            "epoch 18, batch 3, error 0.009679835424369069\n",
            "epoch 19, batch 0, error 0.008330667484202093\n",
            "epoch 19, batch 1, error 0.010342055296072274\n",
            "epoch 19, batch 2, error 0.008350442032440135\n",
            "epoch 19, batch 3, error 0.008539419934822785\n"
          ],
          "name": "stdout"
        }
      ]
    },
    {
      "cell_type": "code",
      "metadata": {
        "colab": {
          "base_uri": "https://localhost:8080/",
          "height": 298
        },
        "id": "eK8mhpaYhcu5",
        "outputId": "cf00384c-9dba-4a78-a3fd-2a5d617a5ddc"
      },
      "source": [
        "x1 = range(len(error_list))\n",
        "y1 = error_list\n",
        "\n",
        "plt.plot(x1,y1)\n",
        "plt.title(\"error graph\")"
      ],
      "execution_count": 38,
      "outputs": [
        {
          "output_type": "execute_result",
          "data": {
            "text/plain": [
              "Text(0.5, 1.0, 'error graph')"
            ]
          },
          "metadata": {
            "tags": []
          },
          "execution_count": 38
        },
        {
          "output_type": "display_data",
          "data": {
            "image/png": "[encoded data removed]",
            "text/plain": [
              "<Figure size 432x288 with 1 Axes>"
            ]
          },
          "metadata": {
            "tags": [],
            "needs_background": "light"
          }
        }
      ]
    },
    {
      "cell_type": "code",
      "metadata": {
        "colab": {
          "base_uri": "https://localhost:8080/"
        },
        "id": "0yAcpuj5hgxh",
        "outputId": "3ded9f88-1fa3-4695-d467-bdd2e4f5334b"
      },
      "source": [
        "print(\"train error :\",error(data_train,m,c))\n",
        "print(\"test error :\",error(data_test,m,c))"
      ],
      "execution_count": 39,
      "outputs": [
        {
          "output_type": "stream",
          "text": [
            "train error : 0.008888507383876006\n",
            "test error : 0.008514986214275908\n"
          ],
          "name": "stdout"
        }
      ]
    },
    {
      "cell_type": "code",
      "metadata": {
        "colab": {
          "base_uri": "https://localhost:8080/"
        },
        "id": "112heOT0hl23",
        "outputId": "a04d7344-2af2-4a8e-c9e6-76fa0cb8f745"
      },
      "source": [
        "print(m,c)"
      ],
      "execution_count": 40,
      "outputs": [
        {
          "output_type": "stream",
          "text": [
            "0.6281113015928705 0.18491459035624558\n"
          ],
          "name": "stdout"
        }
      ]
    },
    {
      "cell_type": "code",
      "metadata": {
        "colab": {
          "base_uri": "https://localhost:8080/",
          "height": 282
        },
        "id": "y6Qor8Obhxsp",
        "outputId": "d9136ec7-6a7b-4f21-a385-48090dae058d"
      },
      "source": [
        "plt.scatter(x,y)"
      ],
      "execution_count": 41,
      "outputs": [
        {
          "output_type": "execute_result",
          "data": {
            "text/plain": [
              "<matplotlib.collections.PathCollection at 0x7fbe5972a2d0>"
            ]
          },
          "metadata": {
            "tags": []
          },
          "execution_count": 41
        },
        {
          "output_type": "display_data",
          "data": {
            "image/png": "[encoded data removed]",
            "text/plain": [
              "<Figure size 432x288 with 1 Axes>"
            ]
          },
          "metadata": {
            "tags": [],
            "needs_background": "light"
          }
        }
      ]
    },
    {
      "cell_type": "code",
      "metadata": {
        "colab": {
          "base_uri": "https://localhost:8080/",
          "height": 298
        },
        "id": "K4gIH5BChzE2",
        "outputId": "7010362c-c5b1-4cd0-a0e1-96fdcef2cb91"
      },
      "source": [
        "x1 = x\n",
        "y1 = [i*m+c for i in x1]\n",
        "plt.plot(x1,y1)\n",
        "plt.title(\"predicted line\")"
      ],
      "execution_count": 42,
      "outputs": [
        {
          "output_type": "execute_result",
          "data": {
            "text/plain": [
              "Text(0.5, 1.0, 'predicted line')"
            ]
          },
          "metadata": {
            "tags": []
          },
          "execution_count": 42
        },
        {
          "output_type": "display_data",
          "data": {
            "image/png": "[encoded data removed]",
            "text/plain": [
              "<Figure size 432x288 with 1 Axes>"
            ]
          },
          "metadata": {
            "tags": [],
            "needs_background": "light"
          }
        }
      ]
    },
    {
      "cell_type": "code",
      "metadata": {
        "colab": {
          "base_uri": "https://localhost:8080/",
          "height": 282
        },
        "id": "HOHGBc0xiSWY",
        "outputId": "a92b3f97-2161-4f1e-c3eb-8c03e25e6327"
      },
      "source": [
        "plt.scatter(x,y)\n",
        "x1 = x\n",
        "y1 = [i*m+c for i in x1]\n",
        "plt.plot(x1,y1)"
      ],
      "execution_count": 43,
      "outputs": [
        {
          "output_type": "execute_result",
          "data": {
            "text/plain": [
              "[<matplotlib.lines.Line2D at 0x7fbe5960d510>]"
            ]
          },
          "metadata": {
            "tags": []
          },
          "execution_count": 43
        },
        {
          "output_type": "display_data",
          "data": {
            "image/png": "[encoded data removed]",
            "text/plain": [
              "<Figure size 432x288 with 1 Axes>"
            ]
          },
          "metadata": {
            "tags": [],
            "needs_background": "light"
          }
        }
      ]
    },
    {
      "cell_type": "code",
      "metadata": {
        "colab": {
          "base_uri": "https://localhost:8080/"
        },
        "id": "40_sm_f7iX_F",
        "outputId": "8a219cc2-bb6c-4c24-f371-b7ec593fc896"
      },
      "source": [
        "input_load = float(input(\"enter yesterday load at this time : \"))\n",
        "\n",
        "max_value = 8841.669480\n",
        "min_value = 3377.919600\n",
        "\n",
        "input_load = (input_load - min_value)/(max_value-min_value)\n",
        "output_load = input_load*m+c\n",
        "\n",
        "output_load = output_load*(max_value-min_value)+min_value\n",
        "\n",
        "print(\"predicted load for this hour is : \",output_load)"
      ],
      "execution_count": 44,
      "outputs": [
        {
          "output_type": "stream",
          "text": [
            "enter yesterday load at this time : 4539\n",
            "predicted load for this hour is :  5117.534392167157\n"
          ],
          "name": "stdout"
        }
      ]
    }
  ]
}