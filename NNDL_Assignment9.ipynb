{
  "nbformat": 4,
  "nbformat_minor": 0,
  "metadata": {
    "colab": {
      "name": "NNDL-Assignment9.ipynb",
      "provenance": [],
      "collapsed_sections": []
    },
    "kernelspec": {
      "name": "python3",
      "display_name": "Python 3"
    },
    "language_info": {
      "name": "python"
    }
  },
  "cells": [
    {
      "cell_type": "code",
      "metadata": {
        "id": "xxCXonAU1fVi",
        "colab": {
          "base_uri": "https://localhost:8080/"
        },
        "outputId": "265c7ac4-9289-4bc4-d127-15e2e7a180c6"
      },
      "source": [
        "#Momentum algorithem with simple linear regression model using stochastic gradient decent alogorithem\n",
        "import pandas as pd \n",
        "import sympy as sym\n",
        "import random\n",
        "import math\n",
        "x,y,m,c=sym.symbols('x y m c')\n",
        "#Creating data frame\n",
        "dataset={'x':[0.2,0.4,0.6,0.8],'y':[3.4,3.8,4.2,4.6]}\n",
        "df=pd.DataFrame(dataset)\n",
        "print(df)"
      ],
      "execution_count": null,
      "outputs": [
        {
          "output_type": "stream",
          "text": [
            "     x    y\n",
            "0  0.2  3.4\n",
            "1  0.4  3.8\n",
            "2  0.6  4.2\n",
            "3  0.8  4.6\n"
          ],
          "name": "stdout"
        }
      ]
    },
    {
      "cell_type": "code",
      "metadata": {
        "id": "trHKi5FC2Dfu",
        "colab": {
          "base_uri": "https://localhost:8080/"
        },
        "outputId": "54ce4ca1-cf9f-4f37-8672-356b71583650"
      },
      "source": [
        "#Assigning m,c,learning rate(N),epochs,Vm,Vc,Momentum weight(gamma):Ymw\n",
        "n=random.random()\n",
        "print(\"learning rate is:\",n)\n",
        "Ymw=float(input(\"enter momentum weight:\"))\n",
        "print(\"momentum weight Ym:\",Ymw)\n",
        "Vm=[]\n",
        "vm=random.randint(0,5)\n",
        "Vm.append(vm)\n",
        "Vc=[]\n",
        "vc=random.randint(0,5)\n",
        "Vc.append(vc)\n",
        "M=[]\n",
        "p=random.randint(1,4)\n",
        "print(\"initial m value is:\",p)\n",
        "M.append(p)\n",
        "Mc=[]\n",
        "C=[]\n",
        "d=random.randint(-4,-1)\n",
        "print(\"initial c value is:\",d)\n",
        "C.append(d)\n",
        "Cc=[]\n",
        "epochs=int(input(\"enter no.of iterations to be repeted:\"))\n",
        "e=epochs+1\n",
        "samples=len(df)\n",
        "s=samples+1"
      ],
      "execution_count": null,
      "outputs": [
        {
          "output_type": "stream",
          "text": [
            "learning rate is: 0.019408764365172138\n",
            "enter momentum weight:0.6\n",
            "momentum weight Ym: 0.6\n",
            "initial m value is: 3\n",
            "initial c value is: -3\n",
            "enter no.of iterations to be repeted:869\n"
          ],
          "name": "stdout"
        }
      ]
    },
    {
      "cell_type": "code",
      "metadata": {
        "id": "-uxhT9br2E0P",
        "colab": {
          "base_uri": "https://localhost:8080/"
        },
        "outputId": "43a82207-107e-4757-9da2-2f0e86c7b4ef"
      },
      "source": [
        "#code developed to get m,c values\n",
        "E=(1/2)*(y-(m*x)-c)**2\n",
        "for i in range(1,e):\n",
        "  for j in range(1,s):\n",
        "    f1=sym.diff(E,m)\n",
        "    b=(n)*f1.evalf(subs={x:df['x'].loc[j-1],y:df['y'].loc[j-1],m:M[j-1],c:C[j-1]})\n",
        "    Mc.append(b)\n",
        "    tm=(Ymw*Vm[j-1])-(Mc[j-1])\n",
        "    Vm.append(tm)\n",
        "    t=M[j-1]+Vm[j]\n",
        "    M.append(t)\n",
        "    f2=sym.diff(E,c)\n",
        "    b1=(n)*f2.evalf(subs={x:df['x'].loc[j-1],y:df['y'].loc[j-1],m:M[j-1],c:C[j-1]})\n",
        "    Cc.append(b1)\n",
        "    tc=(Ymw*Vc[j-1])-(Cc[j-1])\n",
        "    Vc.append(tc)\n",
        "    t1=C[j-1]+Vc[j]\n",
        "    C.append(t1)\n",
        "    if j>=samples:\n",
        "      M.insert(0,M[j])\n",
        "      C.insert(0,C[j])\n",
        "      Vm.insert(0,Vm[j])\n",
        "      Vc.insert(0,Vc[j])\n",
        "      for l in range(1,s+1):\n",
        "        M.pop()\n",
        "        C.pop()\n",
        "        Vm.pop()\n",
        "        Vc.pop()\n",
        "        if l<=(s-1):\n",
        "          Mc.pop()\n",
        "          Cc.pop()\n",
        "  if i>=epochs: \n",
        "    print(\"m value is :\",M[0],\"c value is :\",C[0])    "
      ],
      "execution_count": null,
      "outputs": [
        {
          "output_type": "stream",
          "text": [
            "m value is : 2.00535436512728 c value is : 2.99718663557064\n"
          ],
          "name": "stdout"
        }
      ]
    },
    {
      "cell_type": "code",
      "metadata": {
        "id": "vRaEmYBt2LWo",
        "colab": {
          "base_uri": "https://localhost:8080/"
        },
        "outputId": "91927f9a-9a82-427a-8f6d-d66e1b395d9b"
      },
      "source": [
        "# calculating 'y' prediction values\n",
        "Yp=[]\n",
        "yp=m*x+c\n",
        "for z in range(1,s):\n",
        "  x1=yp.evalf(subs={x:df['x'].loc[z-1],m:M[0],c:C[0]})\n",
        "  Yp.append(x1)\n",
        "print(Yp)\n",
        "df.insert(2,\"Yp\",Yp,True)\n",
        "print(df)"
      ],
      "execution_count": null,
      "outputs": [
        {
          "output_type": "stream",
          "text": [
            "[3.39825750859610, 3.79932838162155, 4.20039925464701, 4.60147012767246]\n",
            "     x    y                Yp\n",
            "0  0.2  3.4  3.39825750859610\n",
            "1  0.4  3.8  3.79932838162155\n",
            "2  0.6  4.2  4.20039925464701\n",
            "3  0.8  4.6  4.60147012767246\n"
          ],
          "name": "stdout"
        }
      ]
    },
    {
      "cell_type": "code",
      "metadata": {
        "id": "6V4Mvu5S2SH4",
        "colab": {
          "base_uri": "https://localhost:8080/"
        },
        "outputId": "6facbba2-af3a-44ef-e680-efc8c8b26462"
      },
      "source": [
        "# Calculating mean square error value\n",
        "se=[] \n",
        "for va in range(1,s):\n",
        "  zero=((df['y'].loc[va-1])-(df['Yp'].loc[va-1]))**2\n",
        "  se.append(zero)\n",
        "df.insert(3,\"SE\",se,True)\n",
        "print(df)\n",
        "value=df['SE'].sum()\n",
        "MSE=value/samples\n",
        "print(\"mean square error is:\",MSE)\n",
        "print(\"Root mean square error value is:\",math.sqrt(MSE))"
      ],
      "execution_count": null,
      "outputs": [
        {
          "output_type": "stream",
          "text": [
            "     x    y                Yp                   SE\n",
            "0  0.2  3.4  3.39825750859610  3.03627629267906e-6\n",
            "1  0.4  3.8  3.79932838162155  4.51071246269840e-7\n",
            "2  0.6  4.2  4.20039925464701  1.59404273156212e-7\n",
            "3  0.8  4.6  4.60147012767246  2.16127537334186e-6\n",
            "mean square error is: 1.45200679636174e-6\n",
            "Root mean square error value is: 0.0012049924465994562\n"
          ],
          "name": "stdout"
        }
      ]
    }
  ]
}