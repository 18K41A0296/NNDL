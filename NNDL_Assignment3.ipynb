{
  "nbformat": 4,
  "nbformat_minor": 0,
  "metadata": {
    "colab": {
      "name": "NNDL-Assignment3.ipynb",
      "provenance": []
    },
    "kernelspec": {
      "name": "python3",
      "display_name": "Python 3"
    }
  },
  "cells": [
    {
      "cell_type": "code",
      "metadata": {
        "colab": {
          "base_uri": "https://localhost:8080/"
        },
        "id": "4OEKur3B6wiO",
        "outputId": "7eda80f6-3f9a-4d17-f5ca-9cd101ee97e6"
      },
      "source": [
        "#simple linear regression model using stochastic gradient decent algorithem\n",
        "import pandas as pd \n",
        "import sympy as sym\n",
        "import random\n",
        "import math\n",
        "x,y,m,c=sym.symbols('x y m c')\n",
        "#Creating data frame\n",
        "dataset={'x':[0.2,0.4,0.6,0.8],'y':[3.4,3.8,4.2,4.6]}\n",
        "df=pd.DataFrame(dataset)\n",
        "print(df)"
      ],
      "execution_count": null,
      "outputs": [
        {
          "output_type": "stream",
          "text": [
            "     x    y\n",
            "0  0.2  3.4\n",
            "1  0.4  3.8\n",
            "2  0.6  4.2\n",
            "3  0.8  4.6\n"
          ],
          "name": "stdout"
        }
      ]
    },
    {
      "cell_type": "code",
      "metadata": {
        "colab": {
          "base_uri": "https://localhost:8080/"
        },
        "id": "qEhnqdCe8ZQC",
        "outputId": "78278af1-b7ca-4d97-c4f9-77a3e4367ff8"
      },
      "source": [
        "#Assigning m,c,learning rate(N),epochs\n",
        "n=random.random()\n",
        "print(\"learning rate is:\",n)\n",
        "M=[]\n",
        "p=random.randint(1,4)\n",
        "print(\"initial m value is:\",p)\n",
        "M.append(p)\n",
        "Mc=[]\n",
        "C=[]\n",
        "d=random.randint(-4,-1)\n",
        "print(\"initial c value is:\",d)\n",
        "C.append(d)\n",
        "Cc=[]\n",
        "epochs=int(input(\"enter no.of iterations to be repeted:\"))\n",
        "e=epochs+1\n",
        "samples=len(df)\n",
        "s=samples+1"
      ],
      "execution_count": null,
      "outputs": [
        {
          "output_type": "stream",
          "text": [
            "learning rate is: 0.933246258200332\n",
            "initial m value is: 3\n",
            "initial c value is: -1\n",
            "enter no.of iterations to be repeted:450\n"
          ],
          "name": "stdout"
        }
      ]
    },
    {
      "cell_type": "code",
      "metadata": {
        "colab": {
          "base_uri": "https://localhost:8080/"
        },
        "id": "olYQxa3s_egG",
        "outputId": "63fdbdb9-6213-42eb-92c6-1b5f15235cbe"
      },
      "source": [
        "#code developed to get m,c values\n",
        "E=(1/2)*(y-(m*x)-c)**2\n",
        "for i in range(1,e):\n",
        "  for j in range(1,s):\n",
        "    f1=sym.diff(E,m)\n",
        "    b=(-1*n)*f1.evalf(subs={x:df['x'].loc[j-1],y:df['y'].loc[j-1],m:M[j-1],c:C[j-1]})\n",
        "    Mc.append(b)\n",
        "    t=(M[j-1])+(Mc[j-1])\n",
        "    M.append(t)\n",
        "    f2=sym.diff(E,c)\n",
        "    b1=(-1*n)*f2.evalf(subs={x:df['x'].loc[j-1],y:df['y'].loc[j-1],m:M[j-1],c:C[j-1]})\n",
        "    Cc.append(b1)\n",
        "    t1=(C[j-1])+(Cc[j-1])\n",
        "    C.append(t1)\n",
        "    if j>=samples:\n",
        "      M.insert(0,M[j])\n",
        "      C.insert(0,C[j])\n",
        "      for l in range(1,s+1):\n",
        "        M.pop()\n",
        "        C.pop()\n",
        "        if l<=(s-1):\n",
        "          Mc.pop()\n",
        "          Cc.pop()\n",
        "  if i>=epochs: \n",
        "    print(\"m value is :\",M[0],\"c value is :\",C[0])    "
      ],
      "execution_count": null,
      "outputs": [
        {
          "output_type": "stream",
          "text": [
            "m value is : 2.00000000000000 c value is : 3.00000000000000\n"
          ],
          "name": "stdout"
        }
      ]
    },
    {
      "cell_type": "code",
      "metadata": {
        "id": "9IhfrvMkG1kY",
        "colab": {
          "base_uri": "https://localhost:8080/"
        },
        "outputId": "4109e6ed-46b9-422f-f936-57ee7e8e88c9"
      },
      "source": [
        "# calculating 'y' prediction values\n",
        "Yp=[]\n",
        "yp=m*x+c\n",
        "for z in range(1,s):\n",
        "  x1=yp.evalf(subs={x:df['x'].loc[z-1],m:M[0],c:C[0]})\n",
        "  Yp.append(x1)\n",
        "print(Yp)\n",
        "df.insert(2,\"Yp\",Yp,True)\n",
        "print(df)"
      ],
      "execution_count": null,
      "outputs": [
        {
          "output_type": "stream",
          "text": [
            "[3.40000000000000, 3.80000000000000, 4.20000000000000, 4.60000000000000]\n",
            "     x    y                Yp\n",
            "0  0.2  3.4  3.40000000000000\n",
            "1  0.4  3.8  3.80000000000000\n",
            "2  0.6  4.2  4.20000000000000\n",
            "3  0.8  4.6  4.60000000000000\n"
          ],
          "name": "stdout"
        }
      ]
    },
    {
      "cell_type": "code",
      "metadata": {
        "colab": {
          "base_uri": "https://localhost:8080/"
        },
        "id": "ZEgpe-A-fH3x",
        "outputId": "7eb02a03-d922-4c85-bd17-d95485b8e485"
      },
      "source": [
        "# Calculating mean square error value\n",
        "se=[] \n",
        "for va in range(1,s):\n",
        "  zero=((df['y'].loc[va-1])-(df['Yp'].loc[va-1]))**2\n",
        "  se.append(zero)\n",
        "df.insert(3,\"SE\",se,True)\n",
        "print(df)\n",
        "value=df['SE'].sum()\n",
        "MSE=value/samples\n",
        "print(\"mean square error is:\",MSE)\n",
        "print(\"Root mean square error value is:\",math.sqrt(MSE))"
      ],
      "execution_count": null,
      "outputs": [
        {
          "output_type": "stream",
          "text": [
            "     x    y                Yp                    SE\n",
            "0  0.2  3.4  3.40000000000000                     0\n",
            "1  0.4  3.8  3.80000000000000                     0\n",
            "2  0.6  4.2  4.20000000000000  7.88860905221012e-31\n",
            "3  0.8  4.6  4.60000000000000                     0\n",
            "mean square error is: 1.97215226305253e-31\n",
            "Root mean square error value is: 4.440892098500626e-16\n"
          ],
          "name": "stdout"
        }
      ]
    }
  ]
}