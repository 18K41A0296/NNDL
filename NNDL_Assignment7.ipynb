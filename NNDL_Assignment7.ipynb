{
  "nbformat": 4,
  "nbformat_minor": 0,
  "metadata": {
    "colab": {
      "name": "NNDL-Assignment7.ipynb",
      "provenance": [],
      "collapsed_sections": []
    },
    "kernelspec": {
      "name": "python3",
      "display_name": "Python 3"
    }
  },
  "cells": [
    {
      "cell_type": "code",
      "metadata": {
        "id": "L37sU3AN5RqR",
        "colab": {
          "base_uri": "https://localhost:8080/"
        },
        "outputId": "aaa82fe7-2e9b-46f4-d345-fb3e73eae49e"
      },
      "source": [
        "#simple linear regression model using Batch gradient decent algorithem\n",
        "import pandas as pd \n",
        "import sympy as sym\n",
        "import random\n",
        "import math\n",
        "x,y,m,c=sym.symbols('x y m c')\n",
        "#Creating data frame\n",
        "dataset={'x':[0.2,0.4,0.6,0.8],'y':[3.4,3.8,4.2,4.6]}\n",
        "df=pd.DataFrame(dataset)\n",
        "print(df)"
      ],
      "execution_count": null,
      "outputs": [
        {
          "output_type": "stream",
          "text": [
            "     x    y\n",
            "0  0.2  3.4\n",
            "1  0.4  3.8\n",
            "2  0.6  4.2\n",
            "3  0.8  4.6\n"
          ],
          "name": "stdout"
        }
      ]
    },
    {
      "cell_type": "code",
      "metadata": {
        "colab": {
          "base_uri": "https://localhost:8080/"
        },
        "id": "P958IlIYBNNn",
        "outputId": "a87b0438-15f5-4cb3-d23b-5a7468c911e9"
      },
      "source": [
        "#Assigning m,c,learning rate(N),epochs for Batch gradient algorithem\n",
        "n=random.random()\n",
        "print(\"learning rate is:\",n)\n",
        "M=[]\n",
        "p=random.randint(1,4)\n",
        "M.append(p)\n",
        "print(\"initial m value is:\",M)\n",
        "C=[]\n",
        "d=random.randint(-4,-1)\n",
        "C.append(d)\n",
        "print(\"initial c value is:\",C)\n",
        "epochs=int(input(\"enter no.of iterations to be repeted:\"))\n",
        "e=epochs+1\n",
        "samples=len(df)\n",
        "s=samples+1"
      ],
      "execution_count": null,
      "outputs": [
        {
          "output_type": "stream",
          "text": [
            "learning rate is: 0.6035064788906779\n",
            "initial m value is: [1]\n",
            "initial c value is: [-4]\n",
            "enter no.of iterations to be repeted:12568\n"
          ],
          "name": "stdout"
        }
      ]
    },
    {
      "cell_type": "code",
      "metadata": {
        "colab": {
          "base_uri": "https://localhost:8080/"
        },
        "id": "7JQQ3WpJB5Ic",
        "outputId": "d0b873bf-3c57-4874-9f9f-ac0625d0b627"
      },
      "source": [
        "#code developed to get m,c values :Batch gradient alorithem\n",
        "# General Equation is:E=(1/(2*samples))*(y-(m*x)-c)**2\n",
        "E=(1/2)*(y-(m*x)-c)**2\n",
        "for i in range(1,e):\n",
        "  b=0\n",
        "  b1=0\n",
        "  for j in range(1,s):\n",
        "    f1=sym.diff(E,m)\n",
        "    b=b+f1.evalf(subs={x:df['x'].loc[j-1],y:df['y'].loc[j-1],m:M[i-1],c:C[i-1]})\n",
        "    f2=sym.diff(E,c)\n",
        "    b1=b1+f2.evalf(subs={x:df['x'].loc[j-1],y:df['y'].loc[j-1],m:M[i-1],c:C[i-1]})\n",
        "    if j>=samples:\n",
        "      bv=((-1*n)/samples)*b\n",
        "      b1v=((-1*n)/samples)*b1\n",
        "      t=(M[i-1])+bv\n",
        "      M.append(t)\n",
        "      t1=(C[i-1])+b1v\n",
        "      C.append(t1)\n",
        "  if i>=epochs: \n",
        "    print(\"m value is :\",M[i],\"c value is :\",C[i])    "
      ],
      "execution_count": null,
      "outputs": [
        {
          "output_type": "stream",
          "text": [
            "m value is : 2.00000000000001 c value is : 2.99999999999999\n"
          ],
          "name": "stdout"
        }
      ]
    },
    {
      "cell_type": "code",
      "metadata": {
        "id": "t4MZ3Ty95wwL",
        "colab": {
          "base_uri": "https://localhost:8080/"
        },
        "outputId": "040de636-e2fe-4faf-edaa-dc7ab3b6e290"
      },
      "source": [
        "# calculating 'y' prediction values : Batch gradient decent algorithem\n",
        "Yp=[]\n",
        "yp=m*x+c\n",
        "lm=len(M)\n",
        "lc=len(C)\n",
        "for z in range(1,s):\n",
        "  x1=yp.evalf(subs={x:df['x'].loc[z-1],m:M[lm-1],c:C[lc-1]})\n",
        "  Yp.append(x1)\n",
        "print(Yp)\n",
        "df.insert(2,\"Yp\",Yp,True)\n",
        "print(df)"
      ],
      "execution_count": null,
      "outputs": [
        {
          "output_type": "stream",
          "text": [
            "[3.40000000000000, 3.80000000000000, 4.20000000000000, 4.60000000000000]\n",
            "     x    y                Yp\n",
            "0  0.2  3.4  3.40000000000000\n",
            "1  0.4  3.8  3.80000000000000\n",
            "2  0.6  4.2  4.20000000000000\n",
            "3  0.8  4.6  4.60000000000000\n"
          ],
          "name": "stdout"
        }
      ]
    },
    {
      "cell_type": "code",
      "metadata": {
        "id": "AEAretck6L1P",
        "colab": {
          "base_uri": "https://localhost:8080/"
        },
        "outputId": "8bfdcdbf-2957-44f5-ba56-1d606703a4a5"
      },
      "source": [
        "# Calculating mean square error value :Batch gradient decent algorithem\n",
        "se=[] \n",
        "for va in range(1,s):\n",
        "  zero=((df['y'].loc[va-1])-(df['Yp'].loc[va-1]))**2\n",
        "  se.append(zero)\n",
        "df.insert(3,\"SE\",se,True)\n",
        "print(df)\n",
        "value=df['SE'].sum()\n",
        "MSE=value/samples\n",
        "print(\"mean square error is:\",MSE)\n",
        "print(\"Root mean square error value is:\",math.sqrt(MSE))"
      ],
      "execution_count": null,
      "outputs": [
        {
          "output_type": "stream",
          "text": [
            "     x    y                Yp                    SE\n",
            "0  0.2  3.4  3.40000000000000  9.66354608895739e-30\n",
            "1  0.4  3.8  3.80000000000000  1.77493703674728e-30\n",
            "2  0.6  4.2  4.20000000000000                     0\n",
            "3  0.8  4.6  4.60000000000000  7.09974814698911e-30\n",
            "mean square error is: 4.63455781817344e-30\n",
            "Root mean square error value is: 2.152802317486082e-15\n"
          ],
          "name": "stdout"
        }
      ]
    }
  ]
}