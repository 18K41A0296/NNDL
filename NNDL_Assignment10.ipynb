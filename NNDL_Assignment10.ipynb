{
  "nbformat": 4,
  "nbformat_minor": 0,
  "metadata": {
    "colab": {
      "name": "NNDL_Assignment10.ipynb",
      "provenance": [],
      "toc_visible": true
    },
    "kernelspec": {
      "name": "python3",
      "display_name": "Python 3"
    },
    "language_info": {
      "name": "python"
    }
  },
  "cells": [
    {
      "cell_type": "code",
      "metadata": {
        "id": "Iy2v6CREC5zj"
      },
      "source": [
        "import pandas as pd\n",
        "import numpy as np\n",
        "import math\n",
        "import random\n",
        "import matplotlib.pyplot as plt\n",
        "from random import shuffle\n",
        "from sklearn.preprocessing import minmax_scale\n",
        "from sklearn.model_selection import train_test_split"
      ],
      "execution_count": 91,
      "outputs": []
    },
    {
      "cell_type": "code",
      "metadata": {
        "colab": {
          "base_uri": "https://localhost:8080/",
          "height": 195
        },
        "id": "D9Hheyj6DNIb",
        "outputId": "a88a9f07-54cb-48a4-fba7-5c38cfeade9f"
      },
      "source": [
        "load_data = pd.read_excel(\"/content/drive/MyDrive/Load Data in kW.xlsx\")\n",
        "load_data.head()"
      ],
      "execution_count": 92,
      "outputs": [
        {
          "output_type": "execute_result",
          "data": {
            "text/html": [
              "<div>\n",
              "<style scoped>\n",
              "    .dataframe tbody tr th:only-of-type {\n",
              "        vertical-align: middle;\n",
              "    }\n",
              "\n",
              "    .dataframe tbody tr th {\n",
              "        vertical-align: top;\n",
              "    }\n",
              "\n",
              "    .dataframe thead th {\n",
              "        text-align: right;\n",
              "    }\n",
              "</style>\n",
              "<table border=\"1\" class=\"dataframe\">\n",
              "  <thead>\n",
              "    <tr style=\"text-align: right;\">\n",
              "      <th></th>\n",
              "      <th>5551.82208</th>\n",
              "    </tr>\n",
              "  </thead>\n",
              "  <tbody>\n",
              "    <tr>\n",
              "      <th>0</th>\n",
              "      <td>4983.17184</td>\n",
              "    </tr>\n",
              "    <tr>\n",
              "      <th>1</th>\n",
              "      <td>4888.39680</td>\n",
              "    </tr>\n",
              "    <tr>\n",
              "      <th>2</th>\n",
              "      <td>5072.95872</td>\n",
              "    </tr>\n",
              "    <tr>\n",
              "      <th>3</th>\n",
              "      <td>5196.25980</td>\n",
              "    </tr>\n",
              "    <tr>\n",
              "      <th>4</th>\n",
              "      <td>5641.29720</td>\n",
              "    </tr>\n",
              "  </tbody>\n",
              "</table>\n",
              "</div>"
            ],
            "text/plain": [
              "   5551.82208\n",
              "0  4983.17184\n",
              "1  4888.39680\n",
              "2  5072.95872\n",
              "3  5196.25980\n",
              "4  5641.29720"
            ]
          },
          "metadata": {
            "tags": []
          },
          "execution_count": 92
        }
      ]
    },
    {
      "cell_type": "code",
      "metadata": {
        "colab": {
          "base_uri": "https://localhost:8080/",
          "height": 284
        },
        "id": "Rv2_OswZDQhH",
        "outputId": "78b30728-b651-4834-bdea-043223c14445"
      },
      "source": [
        "load_data.describe()"
      ],
      "execution_count": 93,
      "outputs": [
        {
          "output_type": "execute_result",
          "data": {
            "text/html": [
              "<div>\n",
              "<style scoped>\n",
              "    .dataframe tbody tr th:only-of-type {\n",
              "        vertical-align: middle;\n",
              "    }\n",
              "\n",
              "    .dataframe tbody tr th {\n",
              "        vertical-align: top;\n",
              "    }\n",
              "\n",
              "    .dataframe thead th {\n",
              "        text-align: right;\n",
              "    }\n",
              "</style>\n",
              "<table border=\"1\" class=\"dataframe\">\n",
              "  <thead>\n",
              "    <tr style=\"text-align: right;\">\n",
              "      <th></th>\n",
              "      <th>5551.82208</th>\n",
              "    </tr>\n",
              "  </thead>\n",
              "  <tbody>\n",
              "    <tr>\n",
              "      <th>count</th>\n",
              "      <td>2183.000000</td>\n",
              "    </tr>\n",
              "    <tr>\n",
              "      <th>mean</th>\n",
              "      <td>6393.616060</td>\n",
              "    </tr>\n",
              "    <tr>\n",
              "      <th>std</th>\n",
              "      <td>17143.020064</td>\n",
              "    </tr>\n",
              "    <tr>\n",
              "      <th>min</th>\n",
              "      <td>3377.919600</td>\n",
              "    </tr>\n",
              "    <tr>\n",
              "      <th>25%</th>\n",
              "      <td>5257.520640</td>\n",
              "    </tr>\n",
              "    <tr>\n",
              "      <th>50%</th>\n",
              "      <td>5935.910400</td>\n",
              "    </tr>\n",
              "    <tr>\n",
              "      <th>75%</th>\n",
              "      <td>6738.692400</td>\n",
              "    </tr>\n",
              "    <tr>\n",
              "      <th>max</th>\n",
              "      <td>805444.430400</td>\n",
              "    </tr>\n",
              "  </tbody>\n",
              "</table>\n",
              "</div>"
            ],
            "text/plain": [
              "          5551.82208\n",
              "count    2183.000000\n",
              "mean     6393.616060\n",
              "std     17143.020064\n",
              "min      3377.919600\n",
              "25%      5257.520640\n",
              "50%      5935.910400\n",
              "75%      6738.692400\n",
              "max    805444.430400"
            ]
          },
          "metadata": {
            "tags": []
          },
          "execution_count": 93
        }
      ]
    },
    {
      "cell_type": "code",
      "metadata": {
        "colab": {
          "base_uri": "https://localhost:8080/"
        },
        "id": "OTqonK7gHkht",
        "outputId": "f718d6c9-7dcc-444a-ddb6-8359943ad881"
      },
      "source": [
        "load_data.info()"
      ],
      "execution_count": 94,
      "outputs": [
        {
          "output_type": "stream",
          "text": [
            "<class 'pandas.core.frame.DataFrame'>\n",
            "RangeIndex: 2183 entries, 0 to 2182\n",
            "Data columns (total 1 columns):\n",
            " #   Column      Non-Null Count  Dtype  \n",
            "---  ------      --------------  -----  \n",
            " 0   5551.82208  2183 non-null   float64\n",
            "dtypes: float64(1)\n",
            "memory usage: 17.2 KB\n"
          ],
          "name": "stdout"
        }
      ]
    },
    {
      "cell_type": "code",
      "metadata": {
        "colab": {
          "base_uri": "https://localhost:8080/",
          "height": 399
        },
        "id": "EE3rHYgCDa09",
        "outputId": "5f311bc8-94a5-4c92-b898-a2341e03e3a1"
      },
      "source": [
        "plt.boxplot(load_data.iloc[:,0])"
      ],
      "execution_count": 95,
      "outputs": [
        {
          "output_type": "execute_result",
          "data": {
            "text/plain": [
              "{'boxes': [<matplotlib.lines.Line2D at 0x7fab2c2f6bd0>],\n",
              " 'caps': [<matplotlib.lines.Line2D at 0x7fab2c2805d0>,\n",
              "  <matplotlib.lines.Line2D at 0x7fab2c284cd0>],\n",
              " 'fliers': [<matplotlib.lines.Line2D at 0x7fab2c292790>],\n",
              " 'means': [],\n",
              " 'medians': [<matplotlib.lines.Line2D at 0x7fab2c284810>],\n",
              " 'whiskers': [<matplotlib.lines.Line2D at 0x7fab2c266790>,\n",
              "  <matplotlib.lines.Line2D at 0x7fab2c27c850>]}"
            ]
          },
          "metadata": {
            "tags": []
          },
          "execution_count": 95
        },
        {
          "output_type": "display_data",
          "data": {
            "image/png": "[encoded data removed]",
            "text/plain": [
              "<Figure size 432x288 with 1 Axes>"
            ]
          },
          "metadata": {
            "tags": [],
            "needs_background": "light"
          }
        }
      ]
    },
    {
      "cell_type": "code",
      "metadata": {
        "colab": {
          "base_uri": "https://localhost:8080/"
        },
        "id": "8fl2vpz7DqCK",
        "outputId": "f7cb3c34-5ef4-49d0-88ca-830e28343de2"
      },
      "source": [
        "from scipy import stats\n",
        "\n",
        "z = np.abs(stats.zscore(load_data.iloc[:,0]))\n",
        "\n",
        "threshold = 3\n",
        "print(np.where(z > 3))"
      ],
      "execution_count": 96,
      "outputs": [
        {
          "output_type": "stream",
          "text": [
            "(array([928]),)\n"
          ],
          "name": "stdout"
        }
      ]
    },
    {
      "cell_type": "code",
      "metadata": {
        "id": "2oIktyUVDzAO"
      },
      "source": [
        "load_data.iloc[928,0] = load_data.iloc[927,0]"
      ],
      "execution_count": 97,
      "outputs": []
    },
    {
      "cell_type": "code",
      "metadata": {
        "colab": {
          "base_uri": "https://localhost:8080/",
          "height": 399
        },
        "id": "NPc1LYuOD3tN",
        "outputId": "9626fbe6-4b35-4b1a-f6dc-04de03607918"
      },
      "source": [
        "plt.boxplot(load_data.iloc[:,0])"
      ],
      "execution_count": 98,
      "outputs": [
        {
          "output_type": "execute_result",
          "data": {
            "text/plain": [
              "{'boxes': [<matplotlib.lines.Line2D at 0x7fab2c2469d0>],\n",
              " 'caps': [<matplotlib.lines.Line2D at 0x7fab2c202b50>,\n",
              "  <matplotlib.lines.Line2D at 0x7fab2c2090d0>],\n",
              " 'fliers': [<matplotlib.lines.Line2D at 0x7fab2c209b90>],\n",
              " 'means': [],\n",
              " 'medians': [<matplotlib.lines.Line2D at 0x7fab2c209650>],\n",
              " 'whiskers': [<matplotlib.lines.Line2D at 0x7fab2c2020d0>,\n",
              "  <matplotlib.lines.Line2D at 0x7fab2c202610>]}"
            ]
          },
          "metadata": {
            "tags": []
          },
          "execution_count": 98
        },
        {
          "output_type": "display_data",
          "data": {
            "image/png": "[encoded data removed]",
            "text/plain": [
              "<Figure size 432x288 with 1 Axes>"
            ]
          },
          "metadata": {
            "tags": [],
            "needs_background": "light"
          }
        }
      ]
    },
    {
      "cell_type": "code",
      "metadata": {
        "id": "5_VtxoB_D7NI"
      },
      "source": [
        "x = []\n",
        "y = []\n",
        "for i in range(len(load_data.iloc[:,0])-24):\n",
        "  x.append(load_data.iloc[i,0])\n",
        "  y.append(load_data.iloc[i+24,0])"
      ],
      "execution_count": 99,
      "outputs": []
    },
    {
      "cell_type": "code",
      "metadata": {
        "colab": {
          "base_uri": "https://localhost:8080/",
          "height": 282
        },
        "id": "9Dt9wXn_EBP7",
        "outputId": "0d0806ff-6981-42d5-fc5a-255e1f5c6b56"
      },
      "source": [
        "plt.scatter(x,y)"
      ],
      "execution_count": 100,
      "outputs": [
        {
          "output_type": "execute_result",
          "data": {
            "text/plain": [
              "<matplotlib.collections.PathCollection at 0x7fab2c1bbf50>"
            ]
          },
          "metadata": {
            "tags": []
          },
          "execution_count": 100
        },
        {
          "output_type": "display_data",
          "data": {
            "image/png": "[encoded data removed]",
            "text/plain": [
              "<Figure size 432x288 with 1 Axes>"
            ]
          },
          "metadata": {
            "tags": [],
            "needs_background": "light"
          }
        }
      ]
    },
    {
      "cell_type": "code",
      "metadata": {
        "id": "9Mh6VSjJEEb0"
      },
      "source": [
        "def error(d,m,c):\n",
        "  sum = 0\n",
        "  for i in range(len(d)):\n",
        "    sum = sum + math.pow(d[i][1]-m*d[i][0]-c,2)\n",
        "  return 0.5*sum/len(d)\n",
        "\n",
        "def gradm(d,m,c):\n",
        "  sum = 0\n",
        "  for i in range(len(d)):\n",
        "    sum = sum + (d[i][1]-m*d[i][0]-c)*d[i][0]\n",
        "  return -1*sum/len(d)\n",
        "\n",
        "def gradc(d,m,c):\n",
        "  sum = 0\n",
        "  for i in range(len(d)):\n",
        "    sum = sum + (d[i][1]-m*d[i][0]-c)\n",
        "  return -1*sum/len(d)"
      ],
      "execution_count": 101,
      "outputs": []
    },
    {
      "cell_type": "code",
      "metadata": {
        "id": "uG0tVfKwEJVI"
      },
      "source": [
        "learning_rate = 0.01\n",
        "epochs = 20\n",
        "\n",
        "m = 1\n",
        "c = 1\n",
        "\n",
        "v_m = 0\n",
        "v_c = 0\n",
        "momentum_coeff = 0.9\n",
        "\n",
        "batch_size = 500"
      ],
      "execution_count": 102,
      "outputs": []
    },
    {
      "cell_type": "code",
      "metadata": {
        "id": "fJM6H3xmERHp"
      },
      "source": [
        "x = minmax_scale(x)\n",
        "y = minmax_scale(y)"
      ],
      "execution_count": 103,
      "outputs": []
    },
    {
      "cell_type": "code",
      "metadata": {
        "colab": {
          "base_uri": "https://localhost:8080/"
        },
        "id": "qOzzrhunEVeg",
        "outputId": "0ad1aba1-ec0d-4ca8-c364-d09c8af2dfe6"
      },
      "source": [
        "data = []\n",
        "\n",
        "for i in range(0,2159):\n",
        "  data.append((x[i],y[i]))\n",
        "\n",
        "print(len(data))\n",
        "\n",
        "data_train,data_test = train_test_split(data,test_size=0.1)\n",
        "\n",
        "len(data_train)"
      ],
      "execution_count": 104,
      "outputs": [
        {
          "output_type": "stream",
          "text": [
            "2159\n"
          ],
          "name": "stdout"
        },
        {
          "output_type": "execute_result",
          "data": {
            "text/plain": [
              "1943"
            ]
          },
          "metadata": {
            "tags": []
          },
          "execution_count": 104
        }
      ]
    },
    {
      "cell_type": "code",
      "metadata": {
        "colab": {
          "base_uri": "https://localhost:8080/"
        },
        "id": "KiGtfEf5EZjY",
        "outputId": "562459ec-a3ee-4281-8912-07c7f68dade2"
      },
      "source": [
        "error_list = []\n",
        "number_of_batches = (len(data_train)//batch_size)\n",
        "for i in range(epochs):\n",
        "  for j in range(number_of_batches+1):\n",
        "    if j == number_of_batches:\n",
        "      d = data_train[j*batch_size:]\n",
        "    else:\n",
        "      d = data_train[j*batch_size:(j+1)*batch_size]\n",
        "\n",
        "    deltam = -1*learning_rate*gradm(d,m,c)\n",
        "    deltac = -1*learning_rate*gradc(d,m,c)\n",
        "\n",
        "    v_m = v_m*momentum_coeff + deltam\n",
        "    v_c = v_c*momentum_coeff + deltac\n",
        "\n",
        "    m = m + v_m\n",
        "    c = c + v_c\n",
        "\n",
        "    print(\"epoch {}, batch {}, error {}\".format(i,j,error(d,m,c)))\n",
        "    error_list.append(error(d,m,c))\n",
        "  random.shuffle(data_train)"
      ],
      "execution_count": 105,
      "outputs": [
        {
          "output_type": "stream",
          "text": [
            "epoch 0, batch 0, error 0.5065469176689951\n",
            "epoch 0, batch 1, error 0.46717608044889736\n",
            "epoch 0, batch 2, error 0.44275827331387313\n",
            "epoch 0, batch 3, error 0.4081902976998139\n",
            "epoch 1, batch 0, error 0.364983897342467\n",
            "epoch 1, batch 1, error 0.3104343135114158\n",
            "epoch 1, batch 2, error 0.28336856238646296\n",
            "epoch 1, batch 3, error 0.23415363869107705\n",
            "epoch 2, batch 0, error 0.18835273600397925\n",
            "epoch 2, batch 1, error 0.1520565687101681\n",
            "epoch 2, batch 2, error 0.1258908353295004\n",
            "epoch 2, batch 3, error 0.0943019170611291\n",
            "epoch 3, batch 0, error 0.06929058192324355\n",
            "epoch 3, batch 1, error 0.04948294840292037\n",
            "epoch 3, batch 2, error 0.03348605916267192\n",
            "epoch 3, batch 3, error 0.025021675271528484\n",
            "epoch 4, batch 0, error 0.018016342711104083\n",
            "epoch 4, batch 1, error 0.0107558230300785\n",
            "epoch 4, batch 2, error 0.009002759341437893\n",
            "epoch 4, batch 3, error 0.008458081752883248\n",
            "epoch 5, batch 0, error 0.009891071232166362\n",
            "epoch 5, batch 1, error 0.013352946968140881\n",
            "epoch 5, batch 2, error 0.01426029420027612\n",
            "epoch 5, batch 3, error 0.018273955191753313\n",
            "epoch 6, batch 0, error 0.019818477371010265\n",
            "epoch 6, batch 1, error 0.0234075949964649\n",
            "epoch 6, batch 2, error 0.025179232182253663\n",
            "epoch 6, batch 3, error 0.0281040863151698\n",
            "epoch 7, batch 0, error 0.02887650928935757\n",
            "epoch 7, batch 1, error 0.030194971295203907\n",
            "epoch 7, batch 2, error 0.02587118521998449\n",
            "epoch 7, batch 3, error 0.027453904032575728\n",
            "epoch 8, batch 0, error 0.027630422743782617\n",
            "epoch 8, batch 1, error 0.02438046636136611\n",
            "epoch 8, batch 2, error 0.024379206210058544\n",
            "epoch 8, batch 3, error 0.02270939604867423\n",
            "epoch 9, batch 0, error 0.021562560697691014\n",
            "epoch 9, batch 1, error 0.019933087132759753\n",
            "epoch 9, batch 2, error 0.016743542935880183\n",
            "epoch 9, batch 3, error 0.014878300433618466\n",
            "epoch 10, batch 0, error 0.014323495729683418\n",
            "epoch 10, batch 1, error 0.012678223010445274\n",
            "epoch 10, batch 2, error 0.011858727648434885\n",
            "epoch 10, batch 3, error 0.012178096806443281\n",
            "epoch 11, batch 0, error 0.011431626804746464\n",
            "epoch 11, batch 1, error 0.008577264013274074\n",
            "epoch 11, batch 2, error 0.009647442583380255\n",
            "epoch 11, batch 3, error 0.009201803320579266\n",
            "epoch 12, batch 0, error 0.0077459579787627015\n",
            "epoch 12, batch 1, error 0.009768762239943149\n",
            "epoch 12, batch 2, error 0.01007379544571178\n",
            "epoch 12, batch 3, error 0.00800122682429719\n",
            "epoch 13, batch 0, error 0.008430909320948496\n",
            "epoch 13, batch 1, error 0.010079065571662594\n",
            "epoch 13, batch 2, error 0.009204908143982523\n",
            "epoch 13, batch 3, error 0.009158397203466664\n",
            "epoch 14, batch 0, error 0.00857800382392444\n",
            "epoch 14, batch 1, error 0.009375367056460956\n",
            "epoch 14, batch 2, error 0.01026734736101341\n",
            "epoch 14, batch 3, error 0.010100579552465487\n",
            "epoch 15, batch 0, error 0.009324066965497528\n",
            "epoch 15, batch 1, error 0.009905179987048155\n",
            "epoch 15, batch 2, error 0.010650130021073512\n",
            "epoch 15, batch 3, error 0.008531898916196556\n",
            "epoch 16, batch 0, error 0.009304891393431582\n",
            "epoch 16, batch 1, error 0.01005473576695677\n",
            "epoch 16, batch 2, error 0.009853181234732758\n",
            "epoch 16, batch 3, error 0.008456803657405552\n",
            "epoch 17, batch 0, error 0.010253366035046422\n",
            "epoch 17, batch 1, error 0.0075442504379454834\n",
            "epoch 17, batch 2, error 0.009646206999551855\n",
            "epoch 17, batch 3, error 0.009319733489602277\n",
            "epoch 18, batch 0, error 0.007205734328089887\n",
            "epoch 18, batch 1, error 0.009083352769387407\n",
            "epoch 18, batch 2, error 0.008862658704951098\n",
            "epoch 18, batch 3, error 0.011032415761448117\n",
            "epoch 19, batch 0, error 0.008194987856224235\n",
            "epoch 19, batch 1, error 0.00917527943499528\n",
            "epoch 19, batch 2, error 0.009798289799326326\n",
            "epoch 19, batch 3, error 0.008352023150560127\n"
          ],
          "name": "stdout"
        }
      ]
    },
    {
      "cell_type": "code",
      "metadata": {
        "colab": {
          "base_uri": "https://localhost:8080/",
          "height": 298
        },
        "id": "RTf7cT43EeMv",
        "outputId": "5353489d-0f1f-42ca-b328-0e2c212463e6"
      },
      "source": [
        "x1 = range(len(error_list))\n",
        "y1 = error_list\n",
        "\n",
        "plt.plot(x1,y1)\n",
        "plt.title(\"error graph\")"
      ],
      "execution_count": 106,
      "outputs": [
        {
          "output_type": "execute_result",
          "data": {
            "text/plain": [
              "Text(0.5, 1.0, 'error graph')"
            ]
          },
          "metadata": {
            "tags": []
          },
          "execution_count": 106
        },
        {
          "output_type": "display_data",
          "data": {
            "image/png": "[encoded data removed]",
            "text/plain": [
              "<Figure size 432x288 with 1 Axes>"
            ]
          },
          "metadata": {
            "tags": [],
            "needs_background": "light"
          }
        }
      ]
    },
    {
      "cell_type": "code",
      "metadata": {
        "colab": {
          "base_uri": "https://localhost:8080/"
        },
        "id": "-WhQNeLXEjEt",
        "outputId": "18a83543-7ba8-4192-c3bf-23f6d50da096"
      },
      "source": [
        "print(\"train error :\",error(data_train,m,c))\n",
        "print(\"test error :\",error(data_test,m,c))"
      ],
      "execution_count": 107,
      "outputs": [
        {
          "output_type": "stream",
          "text": [
            "train error : 0.008875144909306439\n",
            "test error : 0.00861446365625279\n"
          ],
          "name": "stdout"
        }
      ]
    },
    {
      "cell_type": "code",
      "metadata": {
        "colab": {
          "base_uri": "https://localhost:8080/"
        },
        "id": "aYUnxwi8EqvV",
        "outputId": "331de783-0401-4e70-a02f-50728cc522c8"
      },
      "source": [
        "print(m,c)"
      ],
      "execution_count": 108,
      "outputs": [
        {
          "output_type": "stream",
          "text": [
            "0.6270612178688149 0.18401975535340442\n"
          ],
          "name": "stdout"
        }
      ]
    },
    {
      "cell_type": "code",
      "metadata": {
        "colab": {
          "base_uri": "https://localhost:8080/",
          "height": 282
        },
        "id": "-APSl8RkEwFs",
        "outputId": "80e7d6e5-1c80-48c9-ff2b-e46fd6261715"
      },
      "source": [
        "plt.scatter(x,y)"
      ],
      "execution_count": 109,
      "outputs": [
        {
          "output_type": "execute_result",
          "data": {
            "text/plain": [
              "<matplotlib.collections.PathCollection at 0x7fab2c408410>"
            ]
          },
          "metadata": {
            "tags": []
          },
          "execution_count": 109
        },
        {
          "output_type": "display_data",
          "data": {
            "image/png": "[encoded data removed]",
            "text/plain": [
              "<Figure size 432x288 with 1 Axes>"
            ]
          },
          "metadata": {
            "tags": [],
            "needs_background": "light"
          }
        }
      ]
    },
    {
      "cell_type": "code",
      "metadata": {
        "colab": {
          "base_uri": "https://localhost:8080/",
          "height": 298
        },
        "id": "bNdUXGqLE3o1",
        "outputId": "9df31bf7-ba9c-44aa-80f7-9f4a51ff5e87"
      },
      "source": [
        "x1 = x\n",
        "y1 = [i*m+c for i in x1]\n",
        "plt.plot(x1,y1)\n",
        "plt.title(\"predicted line\")"
      ],
      "execution_count": 110,
      "outputs": [
        {
          "output_type": "execute_result",
          "data": {
            "text/plain": [
              "Text(0.5, 1.0, 'predicted line')"
            ]
          },
          "metadata": {
            "tags": []
          },
          "execution_count": 110
        },
        {
          "output_type": "display_data",
          "data": {
            "image/png": "[encoded data removed]",
            "text/plain": [
              "<Figure size 432x288 with 1 Axes>"
            ]
          },
          "metadata": {
            "tags": [],
            "needs_background": "light"
          }
        }
      ]
    },
    {
      "cell_type": "code",
      "metadata": {
        "colab": {
          "base_uri": "https://localhost:8080/",
          "height": 282
        },
        "id": "20ZjaIPME4qK",
        "outputId": "c9d30e58-b562-4ccc-d5a3-3135d564a7c4"
      },
      "source": [
        "plt.scatter(x,y)\n",
        "x1 = x\n",
        "y1 = [i*m+c for i in x1]\n",
        "plt.plot(x1,y1)"
      ],
      "execution_count": 111,
      "outputs": [
        {
          "output_type": "execute_result",
          "data": {
            "text/plain": [
              "[<matplotlib.lines.Line2D at 0x7fab2c2707d0>]"
            ]
          },
          "metadata": {
            "tags": []
          },
          "execution_count": 111
        },
        {
          "output_type": "display_data",
          "data": {
            "image/png": "[encoded data removed]",
            "text/plain": [
              "<Figure size 432x288 with 1 Axes>"
            ]
          },
          "metadata": {
            "tags": [],
            "needs_background": "light"
          }
        }
      ]
    },
    {
      "cell_type": "code",
      "metadata": {
        "colab": {
          "base_uri": "https://localhost:8080/"
        },
        "id": "Kr9Fh2_hE9q6",
        "outputId": "0976a755-7201-4d8d-d1a3-961429224592"
      },
      "source": [
        "input_load = float(input(\"enter yesterday load at this time : \"))\n",
        "\n",
        "max_value = 8841.669480\n",
        "min_value = 3377.919600\n",
        "\n",
        "input_load = (input_load - min_value)/(max_value-min_value)\n",
        "output_load = input_load*m+c\n",
        "\n",
        "output_load = output_load*(max_value-min_value)+min_value\n",
        "\n",
        "print(\"predicted load for this hour is : \",output_load)"
      ],
      "execution_count": 112,
      "outputs": [
        {
          "output_type": "stream",
          "text": [
            "enter yesterday load at this time : 5010\n",
            "predicted load for this hour is :  5406.771839513615\n"
          ],
          "name": "stdout"
        }
      ]
    }
  ]
}